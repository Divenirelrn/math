{
 "cells": [
  {
   "cell_type": "markdown",
   "metadata": {},
   "source": [
    "参数估计：利用抽样去估计分布的参数\n",
    "<img src=\"2.jpg\" alt=\"\" width=\"80%\" height=\"80%\" align=\"center\" />"
   ]
  },
  {
   "cell_type": "markdown",
   "metadata": {},
   "source": [
    "参数空间：参数的取值范围"
   ]
  },
  {
   "cell_type": "markdown",
   "metadata": {},
   "source": [
    "点估计：估计一个点，如身高185<br/>\n",
    "区间估计：估计区间，如身高[182,185]"
   ]
  },
  {
   "cell_type": "markdown",
   "metadata": {},
   "source": [
    "构造函数：\n",
    "<img src=\"3.jpg\" alt=\"\" width=\"50%\" height=\"50%\" align=\"center\" />"
   ]
  },
  {
   "cell_type": "markdown",
   "metadata": {},
   "source": [
    "矩估计法（原点矩）：<br/>\n",
    "已知总体的矩，求出样本的矩，用样本的矩代替总体的矩，从而得出参数\n",
    " <img src=\"4.jpg\" alt=\"\" width=\"100%\" height=\"100%\" align=\"center\" />"
   ]
  },
  {
   "cell_type": "markdown",
   "metadata": {},
   "source": []
  }
 ],
 "metadata": {
  "kernelspec": {
   "display_name": "Python 3",
   "language": "python",
   "name": "python3"
  },
  "language_info": {
   "codemirror_mode": {
    "name": "ipython",
    "version": 3
   },
   "file_extension": ".py",
   "mimetype": "text/x-python",
   "name": "python",
   "nbconvert_exporter": "python",
   "pygments_lexer": "ipython3",
   "version": "3.7.6"
  }
 },
 "nbformat": 4,
 "nbformat_minor": 4
}
