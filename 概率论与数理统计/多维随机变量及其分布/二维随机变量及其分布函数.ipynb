{
 "cells": [
  {
   "cell_type": "markdown",
   "metadata": {},
   "source": [
    "描述身材：身高、体重"
   ]
  },
  {
   "cell_type": "markdown",
   "metadata": {},
   "source": [
    "定义（联合分布）：\n",
    " <img src=\"1.jpg\" alt=\"\" width=\"100%\" height=\"100%\" align=\"center\" />"
   ]
  },
  {
   "cell_type": "markdown",
   "metadata": {},
   "source": [
    "密度函数（体积表示概率）：\n",
    "<img src=\"2.jpg\" alt=\"\" width=\"60%\" height=\"60%\" align=\"center\" />\n",
    "三维空间，二重积分"
   ]
  },
  {
   "cell_type": "markdown",
   "metadata": {},
   "source": [
    "性质：\n",
    "<img src=\"3.jpg\" alt=\"\" width=\"60%\" height=\"60%\" align=\"center\" />\n",
    "<img src=\"4.jpg\" alt=\"\" width=\"60%\" height=\"60%\" align=\"center\" />"
   ]
  },
  {
   "cell_type": "markdown",
   "metadata": {},
   "source": [
    "边缘分布：\n",
    "<img src=\"5.jpg\" alt=\"\" width=\"100%\" height=\"100%\" align=\"center\" />"
   ]
  },
  {
   "cell_type": "markdown",
   "metadata": {},
   "source": []
  }
 ],
 "metadata": {
  "kernelspec": {
   "display_name": "Python 3",
   "language": "python",
   "name": "python3"
  },
  "language_info": {
   "codemirror_mode": {
    "name": "ipython",
    "version": 3
   },
   "file_extension": ".py",
   "mimetype": "text/x-python",
   "name": "python",
   "nbconvert_exporter": "python",
   "pygments_lexer": "ipython3",
   "version": "3.7.6"
  }
 },
 "nbformat": 4,
 "nbformat_minor": 4
}
