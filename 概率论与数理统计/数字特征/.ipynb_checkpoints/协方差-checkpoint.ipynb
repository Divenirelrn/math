{
 "cells": [
  {
   "cell_type": "markdown",
   "metadata": {},
   "source": [
    "定义：\n",
    "<img src=\"19.jpg\" alt=\"\" width=\"60%\" height=\"60%\" align=\"center\" />"
   ]
  },
  {
   "cell_type": "markdown",
   "metadata": {},
   "source": [
    " 公式：\n",
    " <img src=\"20.jpg\" alt=\"\" width=\"100%\" height=\"100%\" align=\"center\" />"
   ]
  },
  {
   "cell_type": "markdown",
   "metadata": {},
   "source": [
    "性质：\n",
    "<img src=\"21.jpg\" alt=\"\" width=\"60%\" height=\"60%\" align=\"center\" />\n",
    "<img src=\"22.jpg\" alt=\"\" width=\"60%\" height=\"60%\" align=\"center\" />\n",
    "<img src=\"23.jpg\" alt=\"\" width=\"60%\" height=\"60%\" align=\"center\" />\n",
    "<img src=\"24.jpg\" alt=\"\" width=\"60%\" height=\"60%\" align=\"center\" />\n",
    "<img src=\"25.jpg\" alt=\"\" width=\"60%\" height=\"60%\" align=\"center\" />"
   ]
  },
  {
   "cell_type": "markdown",
   "metadata": {},
   "source": [
    "标准化：\n",
    "<img src=\"26.jpg\" alt=\"\" width=\"100%\" height=\"100%\" align=\"center\" />\n",
    "<img src=\"27.jpg\" alt=\"\" width=\"100%\" height=\"100%\" align=\"center\" />"
   ]
  },
  {
   "cell_type": "markdown",
   "metadata": {},
   "source": []
  }
 ],
 "metadata": {
  "kernelspec": {
   "display_name": "Python 3",
   "language": "python",
   "name": "python3"
  },
  "language_info": {
   "codemirror_mode": {
    "name": "ipython",
    "version": 3
   },
   "file_extension": ".py",
   "mimetype": "text/x-python",
   "name": "python",
   "nbconvert_exporter": "python",
   "pygments_lexer": "ipython3",
   "version": "3.7.6"
  }
 },
 "nbformat": 4,
 "nbformat_minor": 4
}
