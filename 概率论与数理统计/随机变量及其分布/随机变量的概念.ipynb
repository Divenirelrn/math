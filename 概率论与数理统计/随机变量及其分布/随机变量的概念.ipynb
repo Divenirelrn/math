{
 "cells": [
  {
   "cell_type": "markdown",
   "metadata": {},
   "source": [
    "将具体问题抽象成随机变量，如候车时间、骰子点数、硬币正面还是反面<br/>\n",
    "用随机变量来表示事件及事件的概率"
   ]
  },
  {
   "cell_type": "markdown",
   "metadata": {},
   "source": [
    "实值函数：正反表示成1,0"
   ]
  },
  {
   "cell_type": "markdown",
   "metadata": {},
   "source": [
    "定义域：样本空间"
   ]
  },
  {
   "cell_type": "markdown",
   "metadata": {},
   "source": [
    "$X=X(\\omega)是实值函数$"
   ]
  },
  {
   "cell_type": "markdown",
   "metadata": {},
   "source": [
    "事件：$\\{X=a\\}$<br/>\n",
    "事件的概率：$P\\{X=a\\}或P(X=a)$"
   ]
  },
  {
   "cell_type": "markdown",
   "metadata": {},
   "source": [
    "例如：公交候车，每5分钟一趟，求候车时间<br/>\n",
    "X:候车时间<br/>\n",
    "定义域：[0,5]<br/>\n",
    "事件：$\\{1 \\le X \\le 3\\}$<br/>\n",
    "随机事件的概率：$P\\{1 \\le X \\le 3\\}$"
   ]
  },
  {
   "cell_type": "markdown",
   "metadata": {},
   "source": [
    "离散型随机变量：有限个、无限可列个<br/>\n",
    "连续型随机变量"
   ]
  },
  {
   "cell_type": "code",
   "execution_count": null,
   "metadata": {},
   "outputs": [],
   "source": []
  }
 ],
 "metadata": {
  "kernelspec": {
   "display_name": "Python 3",
   "language": "python",
   "name": "python3"
  },
  "language_info": {
   "codemirror_mode": {
    "name": "ipython",
    "version": 3
   },
   "file_extension": ".py",
   "mimetype": "text/x-python",
   "name": "python",
   "nbconvert_exporter": "python",
   "pygments_lexer": "ipython3",
   "version": "3.7.6"
  }
 },
 "nbformat": 4,
 "nbformat_minor": 4
}
