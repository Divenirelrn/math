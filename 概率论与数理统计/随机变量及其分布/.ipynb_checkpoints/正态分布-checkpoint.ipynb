{
 "cells": [
  {
   "cell_type": "markdown",
   "metadata": {},
   "source": [
    "密度函数与分布函数：\n",
    "<img src=\"35.jpg\" alt=\"\" width=\"100%\" height=\"100%\" align=\"center\" />"
   ]
  },
  {
   "cell_type": "markdown",
   "metadata": {},
   "source": [
    "性质：\n",
    "<img src=\"36.jpg\" alt=\"\" width=\"100%\" height=\"100%\" align=\"center\" />"
   ]
  },
  {
   "cell_type": "markdown",
   "metadata": {},
   "source": [
    "标准正态分布：\n",
    "<img src=\"37.jpg\" alt=\"\" width=\"100%\" height=\"100%\" align=\"center\" />"
   ]
  },
  {
   "cell_type": "markdown",
   "metadata": {},
   "source": [
    "计算：\n",
    " <img src=\"38.jpg\" alt=\"\" width=\"50%\" height=\"50%\" align=\"center\" />\n",
    " <img src=\"39.jpg\" alt=\"\" width=\"100%\" height=\"100%\" align=\"center\" />"
   ]
  },
  {
   "cell_type": "markdown",
   "metadata": {},
   "source": []
  }
 ],
 "metadata": {
  "kernelspec": {
   "display_name": "Python 3",
   "language": "python",
   "name": "python3"
  },
  "language_info": {
   "codemirror_mode": {
    "name": "ipython",
    "version": 3
   },
   "file_extension": ".py",
   "mimetype": "text/x-python",
   "name": "python",
   "nbconvert_exporter": "python",
   "pygments_lexer": "ipython3",
   "version": "3.7.6"
  }
 },
 "nbformat": 4,
 "nbformat_minor": 4
}
