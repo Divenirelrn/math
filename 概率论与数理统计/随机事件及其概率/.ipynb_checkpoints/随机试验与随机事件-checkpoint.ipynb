{
 "cells": [
  {
   "cell_type": "markdown",
   "metadata": {},
   "source": [
    "确定性（必然）：一定（不）发生<br/>\n",
    "随机(偶然)：可能发生，可能不发生<br/>\n",
    "统计规律"
   ]
  },
  {
   "cell_type": "markdown",
   "metadata": {},
   "source": [
    "试验：观察、测量、实验<br/>\n",
    "随机试验：（1）在相同的条件下可以重复<br/>\n",
    "(2)结果不止一个<br/>\n",
    "(3)无法预测"
   ]
  },
  {
   "cell_type": "markdown",
   "metadata": {},
   "source": [
    "事件：每种结果<br/>\n",
    "随机事件：可能发生，可能不发生"
   ]
  },
  {
   "cell_type": "markdown",
   "metadata": {},
   "source": [
    "基本事件：不能（必要）再分<br/>\n",
    "复合事件：由基本事件组合而成<br/>\n",
    "全集(样本空间、必然事件)$\\Omega$，空集（不可能事件）$\\Phi$"
   ]
  },
  {
   "cell_type": "markdown",
   "metadata": {},
   "source": [
    "必然事件、不可能事件：\n",
    " <img src=\"1.jpg\" alt=\"\" width=\"100%\" height=\"100%\" align=\"center\" />"
   ]
  },
  {
   "cell_type": "code",
   "execution_count": null,
   "metadata": {},
   "outputs": [],
   "source": []
  }
 ],
 "metadata": {
  "kernelspec": {
   "display_name": "Python 3",
   "language": "python",
   "name": "python3"
  },
  "language_info": {
   "codemirror_mode": {
    "name": "ipython",
    "version": 3
   },
   "file_extension": ".py",
   "mimetype": "text/x-python",
   "name": "python",
   "nbconvert_exporter": "python",
   "pygments_lexer": "ipython3",
   "version": "3.7.6"
  }
 },
 "nbformat": 4,
 "nbformat_minor": 4
}
