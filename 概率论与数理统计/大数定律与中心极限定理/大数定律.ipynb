{
 "cells": [
  {
   "cell_type": "markdown",
   "metadata": {},
   "source": [
    "大量重复试验的平均结果的稳定性"
   ]
  },
  {
   "cell_type": "markdown",
   "metadata": {},
   "source": [
    "切比雪夫不等式：\n",
    "<img src=\"2.jpg\" alt=\"\" width=\"100%\" height=\"100%\" align=\"center\" />\n",
    "<img src=\"3.jpg\" alt=\"\" width=\"60%\" height=\"60%\" align=\"center\" />"
   ]
  },
  {
   "cell_type": "markdown",
   "metadata": {},
   "source": [
    "公式：\n",
    "<img src=\"4.jpg\" alt=\"\" width=\"60%\" height=\"60%\" align=\"center\" />"
   ]
  },
  {
   "cell_type": "markdown",
   "metadata": {},
   "source": [
    "收敛与依概率收敛：<br/>\n",
    "依概率收敛：落在区域内，但可能有个别点跳出\n",
    "<img src=\"5.jpg\" alt=\"\" width=\"100%\" height=\"100%\" align=\"center\" />"
   ]
  },
  {
   "cell_type": "markdown",
   "metadata": {},
   "source": [
    "伯努利大数定律：\n",
    "<img src=\"6.jpg\" alt=\"\" width=\"100%\" height=\"100%\" align=\"center\" />"
   ]
  },
  {
   "cell_type": "markdown",
   "metadata": {},
   "source": [
    "独立同分布：\n",
    "<img src=\"7.jpg\" alt=\"\" width=\"100%\" height=\"100%\" align=\"center\" />"
   ]
  },
  {
   "cell_type": "markdown",
   "metadata": {},
   "source": [
    "切比雪夫大数定律：\n",
    "<img src=\"8.jpg\" alt=\"\" width=\"100%\" height=\"100%\" align=\"center\" />\n",
    "变量的均值收敛于期望的均值"
   ]
  },
  {
   "cell_type": "markdown",
   "metadata": {},
   "source": [
    "推论：\n",
    "<img src=\"9.jpg\" alt=\"\" width=\"100%\" height=\"100%\" align=\"center\" />"
   ]
  },
  {
   "cell_type": "markdown",
   "metadata": {},
   "source": [
    "辛钦定理：\n",
    " <img src=\"10.jpg\" alt=\"\" width=\"100%\" height=\"100%\" align=\"center\" />\n",
    " 平均数逼近期望"
   ]
  },
  {
   "cell_type": "code",
   "execution_count": null,
   "metadata": {},
   "outputs": [],
   "source": []
  }
 ],
 "metadata": {
  "kernelspec": {
   "display_name": "Python 3",
   "language": "python",
   "name": "python3"
  },
  "language_info": {
   "codemirror_mode": {
    "name": "ipython",
    "version": 3
   },
   "file_extension": ".py",
   "mimetype": "text/x-python",
   "name": "python",
   "nbconvert_exporter": "python",
   "pygments_lexer": "ipython3",
   "version": "3.7.6"
  }
 },
 "nbformat": 4,
 "nbformat_minor": 4
}
