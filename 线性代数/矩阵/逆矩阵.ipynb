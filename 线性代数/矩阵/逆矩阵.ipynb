{
 "cells": [
  {
   "cell_type": "markdown",
   "metadata": {},
   "source": [
    "方阵的性质：\n",
    "<img src=\"./12.jpg\" alt=\"\" width=\"50%\" height=\"50%\" align=\"center\" />"
   ]
  },
  {
   "cell_type": "markdown",
   "metadata": {},
   "source": [
    "伴随矩阵：\n",
    "<img src=\"./13.jpg\" alt=\"\" width=\"50%\" height=\"50%\" align=\"center\" />\n",
    "<img src=\"./14.jpg\" alt=\"\" width=\"50%\" height=\"50%\" align=\"center\" />\n",
    "<img src=\"./15.jpg\" alt=\"\" width=\"50%\" height=\"50%\" align=\"center\" />"
   ]
  },
  {
   "cell_type": "markdown",
   "metadata": {},
   "source": [
    "伴随矩阵性质：\n",
    "<img src=\"./16.jpg\" alt=\"\" width=\"50%\" height=\"50%\" align=\"center\" />"
   ]
  },
  {
   "cell_type": "markdown",
   "metadata": {},
   "source": [
    "逆阵：\n",
    "<img src=\"./17.jpg\" alt=\"\" width=\"100%\" height=\"100%\" align=\"center\" />"
   ]
  },
  {
   "cell_type": "markdown",
   "metadata": {},
   "source": [
    "可逆判别：\n",
    "<img src=\"./19.jpg\" alt=\"\" width=\"100%\" height=\"100%\" align=\"center\" />"
   ]
  },
  {
   "cell_type": "markdown",
   "metadata": {},
   "source": [
    "推论：\n",
    " <img src=\"./20.jpg\" alt=\"\" width=\"100%\" height=\"100%\" align=\"center\" />"
   ]
  },
  {
   "cell_type": "markdown",
   "metadata": {},
   "source": [
    "矩阵方程：\n",
    " <img src=\"./21.jpg\" alt=\"\" width=\"50%\" height=\"50%\" align=\"center\" />"
   ]
  },
  {
   "cell_type": "markdown",
   "metadata": {},
   "source": [
    "逆阵性质：\n",
    "<img src=\"./23.jpg\" alt=\"\" width=\"100%\" height=\"100%\" align=\"center\" />\n",
    "<img src=\"./24.jpg\" alt=\"\" width=\"100%\" height=\"100%\" align=\"center\" />"
   ]
  },
  {
   "cell_type": "markdown",
   "metadata": {},
   "source": []
  }
 ],
 "metadata": {
  "kernelspec": {
   "display_name": "Python 3",
   "language": "python",
   "name": "python3"
  },
  "language_info": {
   "codemirror_mode": {
    "name": "ipython",
    "version": 3
   },
   "file_extension": ".py",
   "mimetype": "text/x-python",
   "name": "python",
   "nbconvert_exporter": "python",
   "pygments_lexer": "ipython3",
   "version": "3.7.6"
  }
 },
 "nbformat": 4,
 "nbformat_minor": 4
}
