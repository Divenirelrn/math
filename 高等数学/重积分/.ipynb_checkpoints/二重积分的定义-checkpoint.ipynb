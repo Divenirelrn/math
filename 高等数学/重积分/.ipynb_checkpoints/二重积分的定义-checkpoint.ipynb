{
 "cells": [
  {
   "cell_type": "markdown",
   "metadata": {},
   "source": [
    "<img src=\"./1.jpg\" alt=\"\" width=\"100%\" height=\"100%\" align=\"center\" />"
   ]
  },
  {
   "cell_type": "markdown",
   "metadata": {},
   "source": [
    "求曲顶柱体的体积，$\\lambda \\rightarrow 0$,限制了底面每一块区域趋向于一个点"
   ]
  },
  {
   "cell_type": "markdown",
   "metadata": {},
   "source": [
    "二重积分的定义：\n",
    "<img src=\"./2.jpg\" alt=\"\" width=\"100%\" height=\"100%\" align=\"center\" />"
   ]
  },
  {
   "cell_type": "markdown",
   "metadata": {},
   "source": [
    "$d\\sigma$称为面积元素"
   ]
  },
  {
   "cell_type": "markdown",
   "metadata": {},
   "source": [
    "直角坐标系一般这样分（横线竖线）：\n",
    "<img src=\"./3.jpg\" alt=\"\" width=\"50%\" height=\"50%\" align=\"center\" />"
   ]
  },
  {
   "cell_type": "markdown",
   "metadata": {},
   "source": [
    "因此，$d\\delta可以写成dxdy$"
   ]
  },
  {
   "cell_type": "markdown",
   "metadata": {},
   "source": []
  }
 ],
 "metadata": {
  "kernelspec": {
   "display_name": "Python 3",
   "language": "python",
   "name": "python3"
  },
  "language_info": {
   "codemirror_mode": {
    "name": "ipython",
    "version": 3
   },
   "file_extension": ".py",
   "mimetype": "text/x-python",
   "name": "python",
   "nbconvert_exporter": "python",
   "pygments_lexer": "ipython3",
   "version": "3.7.6"
  }
 },
 "nbformat": 4,
 "nbformat_minor": 4
}
