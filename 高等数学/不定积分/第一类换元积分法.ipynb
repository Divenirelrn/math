{
 "cells": [
  {
   "cell_type": "markdown",
   "metadata": {},
   "source": [
    "第一类换元积分法（凑）：<br/>\n",
    "$\\int 1 d(F(u)) = F(u) + C$<br/>\n",
    "$\\int f(\\phi (x))\\phi '(x) dx = F(\\phi(x)) + C$<br/>\n",
    "$\\int f(\\phi(x))d\\phi(x) = F(\\phi(x))  + C$"
   ]
  },
  {
   "cell_type": "markdown",
   "metadata": {},
   "source": [
    "$\\int 2cos2xdx = \\int cos2x d2x = sin(2x) + C$"
   ]
  },
  {
   "cell_type": "code",
   "execution_count": null,
   "metadata": {},
   "outputs": [],
   "source": []
  }
 ],
 "metadata": {
  "kernelspec": {
   "display_name": "Python 3",
   "language": "python",
   "name": "python3"
  },
  "language_info": {
   "codemirror_mode": {
    "name": "ipython",
    "version": 3
   },
   "file_extension": ".py",
   "mimetype": "text/x-python",
   "name": "python",
   "nbconvert_exporter": "python",
   "pygments_lexer": "ipython3",
   "version": "3.7.6"
  }
 },
 "nbformat": 4,
 "nbformat_minor": 4
}
