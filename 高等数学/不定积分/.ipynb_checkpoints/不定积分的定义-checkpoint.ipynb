{
 "cells": [
  {
   "cell_type": "markdown",
   "metadata": {},
   "source": [
    "$定义：F'(x) = f(x), 则F'(x)叫做f(x)的一个原函数$"
   ]
  },
  {
   "cell_type": "markdown",
   "metadata": {},
   "source": [
    "$原函数存在定理：连续则一定有原函数$"
   ]
  },
  {
   "cell_type": "markdown",
   "metadata": {},
   "source": [
    "$不定积分：\\int f(x)dx = F(x) + C$<br />\n",
    "f(x)求原函数<br/>\n",
    "$f(x)——被积函数，x——积分变量$"
   ]
  },
  {
   "cell_type": "markdown",
   "metadata": {},
   "source": [
    "$\\int x^2 dx = \\frac{1}{3}x^3 + C$"
   ]
  },
  {
   "cell_type": "markdown",
   "metadata": {},
   "source": []
  }
 ],
 "metadata": {
  "kernelspec": {
   "display_name": "Python 3",
   "language": "python",
   "name": "python3"
  },
  "language_info": {
   "codemirror_mode": {
    "name": "ipython",
    "version": 3
   },
   "file_extension": ".py",
   "mimetype": "text/x-python",
   "name": "python",
   "nbconvert_exporter": "python",
   "pygments_lexer": "ipython3",
   "version": "3.7.6"
  }
 },
 "nbformat": 4,
 "nbformat_minor": 4
}
