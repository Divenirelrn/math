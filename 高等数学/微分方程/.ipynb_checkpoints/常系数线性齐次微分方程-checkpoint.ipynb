{
 "cells": [
  {
   "cell_type": "markdown",
   "metadata": {},
   "source": [
    "线性方程：3x+2y-4w,变量乘以系数之后相加减<br/>\n",
    "齐次：等号右面是0"
   ]
  },
  {
   "cell_type": "markdown",
   "metadata": {},
   "source": [
    "二阶齐次线性方程：$y''+P(x)y'+Q(x)y=0$<br/>\n",
    "二阶常系数线性齐次方程：$y''+py'+qy=0$"
   ]
  },
  {
   "cell_type": "markdown",
   "metadata": {},
   "source": [
    "解法：<br/>\n",
    "$y''+py'+qy=0 \\rightarrow r^2 + pr + q = 0 \\quad(特征方程)$"
   ]
  },
  {
   "cell_type": "markdown",
   "metadata": {},
   "source": [
    "$y''-2y'+5y=0$"
   ]
  },
  {
   "cell_type": "code",
   "execution_count": null,
   "metadata": {},
   "outputs": [],
   "source": []
  }
 ],
 "metadata": {
  "kernelspec": {
   "display_name": "Python 3",
   "language": "python",
   "name": "python3"
  },
  "language_info": {
   "codemirror_mode": {
    "name": "ipython",
    "version": 3
   },
   "file_extension": ".py",
   "mimetype": "text/x-python",
   "name": "python",
   "nbconvert_exporter": "python",
   "pygments_lexer": "ipython3",
   "version": "3.7.6"
  }
 },
 "nbformat": 4,
 "nbformat_minor": 4
}
