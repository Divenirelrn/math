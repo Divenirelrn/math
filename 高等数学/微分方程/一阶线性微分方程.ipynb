{
 "cells": [
  {
   "cell_type": "markdown",
   "metadata": {},
   "source": [
    "$\\frac{dy}{dx}+P(x)y = Q(x)$"
   ]
  },
  {
   "cell_type": "markdown",
   "metadata": {},
   "source": [
    "$y = e^{(-\\int P(x)dx)}(\\int Q(x)e^{\\int P(x)dx}dx+C)$"
   ]
  },
  {
   "cell_type": "markdown",
   "metadata": {},
   "source": [
    "$Q(x)恒等于0，则微分方程为齐次的$"
   ]
  },
  {
   "cell_type": "markdown",
   "metadata": {},
   "source": [
    "齐次方程组：<br/>\n",
    "$$\n",
    " \\begin{cases}\n",
    " x+y+z=0\\\\\n",
    " x-y+3z=0\n",
    " \\end{cases}\n",
    "$$\n",
    "等号右边等于0"
   ]
  },
  {
   "cell_type": "markdown",
   "metadata": {},
   "source": []
  }
 ],
 "metadata": {
  "kernelspec": {
   "display_name": "Python 3",
   "language": "python",
   "name": "python3"
  },
  "language_info": {
   "codemirror_mode": {
    "name": "ipython",
    "version": 3
   },
   "file_extension": ".py",
   "mimetype": "text/x-python",
   "name": "python",
   "nbconvert_exporter": "python",
   "pygments_lexer": "ipython3",
   "version": "3.7.6"
  }
 },
 "nbformat": 4,
 "nbformat_minor": 4
}
