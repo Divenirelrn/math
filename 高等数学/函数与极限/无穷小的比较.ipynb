{
 "cells": [
  {
   "cell_type": "markdown",
   "metadata": {},
   "source": [
    "$\\lim_{x \\to 0} x^3 与 \\lim_{x \\to 0}x 与 \\lim_{x \\to 0}\\sqrt{x}，三者趋于0的速度不同$"
   ]
  },
  {
   "cell_type": "markdown",
   "metadata": {},
   "source": [
    "$若\\lim \\frac{\\beta}{\\alpha} = 0, 则 \\beta 为 \\alpha 的高阶无穷小，记作 \\beta = o(\\alpha)$<br />\n",
    "$若\\lim \\frac{\\beta}{\\alpha} = \\infty, 则 \\beta 为 \\alpha 的低阶无穷小$<br />\n",
    "$若\\lim \\frac{\\beta}{\\alpha} = C \\ne 0, 则 \\beta 为 \\alpha 的同阶无穷小$<br />\n",
    "$若\\lim \\frac{\\beta}{\\alpha ^ k} = C \\ne 0, 则 \\beta 为 \\alpha 的k阶无穷小$<br />\n",
    "$若\\lim \\frac{\\beta}{\\alpha} = 1, 则 \\alpha与 \\beta 等价,记作 \\alpha \\sim \\beta$"
   ]
  },
  {
   "cell_type": "markdown",
   "metadata": {},
   "source": [
    "$\\lim_{x \\to 0}\\frac{sinx}{x} = 1, sinx与x为等价无穷小$"
   ]
  },
  {
   "cell_type": "markdown",
   "metadata": {},
   "source": [
    "定理1：$\\beta与\\alpha等价 \\iff \\beta = \\alpha + o(\\alpha)$<br />\n",
    "定理2（等价无穷小替换）0：$\\alpha \\sim \\tilde{\\alpha}, \\beta \\sim \\tilde{\\beta}, 且 \\lim \\frac{\\tilde{\\beta}}{\\tilde{\\alpha}}存在，则： $\n",
    "$$ \\lim\\frac{\\beta}{\\alpha} = \\lim \\frac{\\tilde{\\beta}}{\\tilde{\\alpha}}$$"
   ]
  },
  {
   "cell_type": "code",
   "execution_count": null,
   "metadata": {},
   "outputs": [],
   "source": []
  }
 ],
 "metadata": {
  "kernelspec": {
   "display_name": "Python 3",
   "language": "python",
   "name": "python3"
  },
  "language_info": {
   "codemirror_mode": {
    "name": "ipython",
    "version": 3
   },
   "file_extension": ".py",
   "mimetype": "text/x-python",
   "name": "python",
   "nbconvert_exporter": "python",
   "pygments_lexer": "ipython3",
   "version": "3.7.6"
  }
 },
 "nbformat": 4,
 "nbformat_minor": 4
}
