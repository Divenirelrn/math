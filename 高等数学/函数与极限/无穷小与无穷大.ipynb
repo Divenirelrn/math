{
 "cells": [
  {
   "cell_type": "markdown",
   "metadata": {},
   "source": [
    "无穷小：<br />\n",
    "指的是趋于0（从正或从负）\n",
    "$x→x_0(x → \\infty)时，f(x)的极限是0，那么，f(x)是x→x_0(x → \\infty)时的无穷小$"
   ]
  },
  {
   "cell_type": "markdown",
   "metadata": {},
   "source": [
    "无穷小+无穷小 = 无穷小<br />\n",
    "无穷小-无穷小 = 无穷小<br />\n",
    "无穷小*无穷小 = 无穷小<br />\n",
    "c * 无穷小 = 无穷小<br />\n",
    "无穷小 / 无穷小，结果不一定，具体看哪个趋于0的速度快<br />"
   ]
  },
  {
   "cell_type": "markdown",
   "metadata": {},
   "source": [
    "无穷大：<br />\n",
    "指的是趋于$\\infty（正的或负的）$<br />\n",
    "$x→x_0(x → \\infty)时，f(x)的极限是\\infty，那么，f(x)是x→x_0(x → \\infty)时的无穷大$"
   ]
  },
  {
   "cell_type": "markdown",
   "metadata": {},
   "source": [
    "无穷大+无穷大 不一定等于 无穷大<br />\n",
    "无穷大-无穷大 不一定等于 无穷大<br />\n",
    "无穷大*无穷大 = 无穷大<br />\n",
    "c * 无穷大 不一定等于 无穷大<br />\n",
    "无穷大 / 无穷大，结果不一定<br />\n",
    "无穷小 * 无穷大，结果不一定"
   ]
  },
  {
   "cell_type": "markdown",
   "metadata": {},
   "source": [
    "f(x)无穷大，那么$\\frac{1}{f(x)}是无穷小$<br />\n",
    "f(x)无穷小，那么$\\frac{1}{f(x)}是无穷大$"
   ]
  },
  {
   "cell_type": "code",
   "execution_count": null,
   "metadata": {},
   "outputs": [],
   "source": []
  }
 ],
 "metadata": {
  "kernelspec": {
   "display_name": "Python 3",
   "language": "python",
   "name": "python3"
  },
  "language_info": {
   "codemirror_mode": {
    "name": "ipython",
    "version": 3
   },
   "file_extension": ".py",
   "mimetype": "text/x-python",
   "name": "python",
   "nbconvert_exporter": "python",
   "pygments_lexer": "ipython3",
   "version": "3.7.6"
  }
 },
 "nbformat": 4,
 "nbformat_minor": 4
}
