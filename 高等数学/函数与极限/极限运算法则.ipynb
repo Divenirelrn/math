{
 "cells": [
  {
   "cell_type": "markdown",
   "metadata": {},
   "source": [
    "有限个无穷小的和是无穷小<br />\n",
    "有界(sin, cos)与无穷小的乘积是无穷小<br />\n",
    "$\\lim f(x) = A, \\lim g(x) = B, 那么：$\n",
    "$$\\lim [f(x) \\pm g(x)] = \\lim f(x) \\pm \\lim g(x) = A \\pm B $$\n",
    "$$\\lim [f(x) * g(x)] = \\lim f(x) * \\lim g(x) = A * B$$\n",
    "$$\\lim [f(x) / g(x)] = \\lim f(x) / \\lim g(x) = A / B (B \\ne 0)$$\n",
    "$\\lim[cf(c)] = c \\lim f(c)$<br />\n",
    "$\\lim [f(c)]^n = [\\lim f(x)]^n$<br />\n",
    "$\\Phi(x) \\ge \\Psi (x), 那么 \\lim \\Phi(x) \\ge \\lim \\Psi(x)$"
   ]
  },
  {
   "cell_type": "code",
   "execution_count": null,
   "metadata": {},
   "outputs": [],
   "source": []
  }
 ],
 "metadata": {
  "kernelspec": {
   "display_name": "Python 3",
   "language": "python",
   "name": "python3"
  },
  "language_info": {
   "codemirror_mode": {
    "name": "ipython",
    "version": 3
   },
   "file_extension": ".py",
   "mimetype": "text/x-python",
   "name": "python",
   "nbconvert_exporter": "python",
   "pygments_lexer": "ipython3",
   "version": "3.7.6"
  }
 },
 "nbformat": 4,
 "nbformat_minor": 4
}
