{
 "cells": [
  {
   "cell_type": "markdown",
   "metadata": {},
   "source": [
    "数列极限：<br />\n",
    "1,1/2,1/3,1/4,1/5,1/6,...<br />\n",
    "$ \\forall\\epsilon>0, \\exists N, 当n>N时，|x_n-a|<\\epsilon, a是极限$"
   ]
  },
  {
   "cell_type": "markdown",
   "metadata": {},
   "source": [
    "收敛数列的性质：<br />\n",
    "1.收敛数列极限唯一<br />\n",
    "2.收敛数列一定有界<br />\n",
    "3.收敛数列具有保号性（某项之后的项与极限同号）<br />\n",
    "4.收敛数列的子数列收敛于同一极限"
   ]
  },
  {
   "cell_type": "code",
   "execution_count": null,
   "metadata": {},
   "outputs": [],
   "source": []
  }
 ],
 "metadata": {
  "kernelspec": {
   "display_name": "Python 3",
   "language": "python",
   "name": "python3"
  },
  "language_info": {
   "codemirror_mode": {
    "name": "ipython",
    "version": 3
   },
   "file_extension": ".py",
   "mimetype": "text/x-python",
   "name": "python",
   "nbconvert_exporter": "python",
   "pygments_lexer": "ipython3",
   "version": "3.7.6"
  }
 },
 "nbformat": 4,
 "nbformat_minor": 4
}
