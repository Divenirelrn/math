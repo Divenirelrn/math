{
 "cells": [
  {
   "cell_type": "markdown",
   "metadata": {},
   "source": [
    "闭区间连续函数有许多好的性质<br />\n",
    "最大值与最小值：<br />\n",
    "$对于在区间I上有定义的函数f(x),如果有x_0 \\in I, 使得对于\\forall x \\in I, 都有：$\n",
    "$$f(x) \\le f(x_0) (f(x) \\ge f(x_0)$$\n",
    "$则称f(x_0)是函数f(x)在区间I上的最大值（最小值）$"
   ]
  },
  {
   "cell_type": "markdown",
   "metadata": {},
   "source": [
    "定理一（最大值最小值定理）：<br />\n",
    "在闭区间连续的函数在该区间一定能取得它的最大值与最小值"
   ]
  },
  {
   "cell_type": "markdown",
   "metadata": {},
   "source": [
    "定理二（有界性定理）：在闭区间上连续的函数一定在该区间有界"
   ]
  },
  {
   "cell_type": "markdown",
   "metadata": {},
   "source": [
    "定理三（零点定理）：<br/>\n",
    "$函数f(x)在闭区间[a,b]连续，且f(a)与f(b)异号，即f(a)f(b) < 0,\n",
    "那么在开区间(a,b)至少存在一点\\zeta，使f(\\zeta) = 0 $"
   ]
  },
  {
   "cell_type": "markdown",
   "metadata": {},
   "source": [
    "定理四（介值定理）：<br />\n",
    "$f(x)在闭区间[a,b]连续，且f(a) \\ne f(b), 那么对于f(a)与f(b)之间的任意一个数C，在开区间(a,b)内至少有一个点 \\zeta, 使得f(\\zeta) = C$"
   ]
  },
  {
   "cell_type": "code",
   "execution_count": null,
   "metadata": {},
   "outputs": [],
   "source": []
  }
 ],
 "metadata": {
  "kernelspec": {
   "display_name": "Python 3",
   "language": "python",
   "name": "python3"
  },
  "language_info": {
   "codemirror_mode": {
    "name": "ipython",
    "version": 3
   },
   "file_extension": ".py",
   "mimetype": "text/x-python",
   "name": "python",
   "nbconvert_exporter": "python",
   "pygments_lexer": "ipython3",
   "version": "3.7.6"
  }
 },
 "nbformat": 4,
 "nbformat_minor": 4
}
