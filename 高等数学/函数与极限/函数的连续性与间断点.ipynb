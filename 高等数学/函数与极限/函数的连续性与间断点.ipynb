{
 "cells": [
  {
   "cell_type": "markdown",
   "metadata": {},
   "source": [
    "增量(改变量)：$\\Delta x， \\Delta y = f(x_0 + \\Delta x) - f(x_0)$"
   ]
  },
  {
   "cell_type": "markdown",
   "metadata": {},
   "source": [
    "连续性：<br />\n",
    "$$\\lim_{\\Delta x \\to 0}\\Delta y = \\lim_{\\Delta x \\to 0}(f(x_0 + \\Delta x) - f(x_0)) = 0$$\n",
    "$$\\lim_{\\Delta x \\to 0}f(x_0 + \\Delta x) = f(x_0)$$\n",
    "$$\\lim_{x \\to x_0}f(x) = f(x_0)$$"
   ]
  },
  {
   "cell_type": "markdown",
   "metadata": {},
   "source": [
    "连续需要满足三个条件：<br />\n",
    "在$x_0$处有极限<br />\n",
    "在$x_0$处有定义<br />\n",
    "极限值=函数值"
   ]
  },
  {
   "cell_type": "markdown",
   "metadata": {},
   "source": [
    "左连续：<br />\n",
    "$$\\lim_{x \\to x_0^-}f(x) = f(x_0)$$\n",
    "右连续：<br />\n",
    "$$\\lim_{x \\to x_0^+}f(x) = f(x_0)$$\n",
    "$连续 \\iff 左、右连续$"
   ]
  },
  {
   "cell_type": "markdown",
   "metadata": {},
   "source": [
    "几何意义：连续函数的曲线连续没有间断点"
   ]
  },
  {
   "cell_type": "markdown",
   "metadata": {},
   "source": [
    "间断点（三种情况）：<br />\n",
    "在$x_0$处无定义<br />\n",
    "在$x_0$处无极限（）<br />\n",
    "极限与函数值不等，$\\lim_{x \\to x_0}f(x) \\ne f(x_0)$"
   ]
  },
  {
   "attachments": {},
   "cell_type": "markdown",
   "metadata": {},
   "source": [
    "$y=tanx, x = \\frac{\\pi}{2}时无定义，且y \\rightarrow \\infty, 称为无穷间断点$<br />\n",
    "$y = sin \\frac{1}{x},x=0时无定义，且越靠近0振荡频率越高，称为振荡间断点$<br />\n",
    "$y = \\frac{x^2 - 1}{x - 1}在x=1处无定义，且可以补上定义，称为可去间断点$<br />\n",
    "跳跃间断点：\n",
    "<img src=\"./1.jpg\" alt=\"跳跃间断点\" width=\"50%\" height=\"50%\" align=\"center\" />"
   ]
  },
  {
   "cell_type": "markdown",
   "metadata": {},
   "source": [
    "第一类间断点：左右极限均存在，可去、跳跃<br />\n",
    "第二类间断点：左右极限至少有一个不存在，振荡、无穷"
   ]
  },
  {
   "cell_type": "code",
   "execution_count": null,
   "metadata": {},
   "outputs": [],
   "source": []
  }
 ],
 "metadata": {
  "kernelspec": {
   "display_name": "Python 3",
   "language": "python",
   "name": "python3"
  },
  "language_info": {
   "codemirror_mode": {
    "name": "ipython",
    "version": 3
   },
   "file_extension": ".py",
   "mimetype": "text/x-python",
   "name": "python",
   "nbconvert_exporter": "python",
   "pygments_lexer": "ipython3",
   "version": "3.7.6"
  }
 },
 "nbformat": 4,
 "nbformat_minor": 4
}
