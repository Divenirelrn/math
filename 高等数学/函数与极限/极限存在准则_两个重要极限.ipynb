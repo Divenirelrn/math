{
 "cells": [
  {
   "cell_type": "markdown",
   "metadata": {},
   "source": [
    "准则1（夹逼准则）：<br />\n",
    "$数列\\{x_n\\}, \\{y_n\\},如果： $<br />\n",
    "$(1)\\exists n_0 \\in N, n > n_0 时，y_n \\le x_n \\le z_n $<br />\n",
    "$(2)\\lim_{n \\to \\infty}y_n = a, \\lim_{n \\to \\infty} z_n = a$<br />\n",
    "那么：<br />\n",
    "$$\\lim_{n \\to \\infty}x_n = a$$"
   ]
  },
  {
   "cell_type": "markdown",
   "metadata": {},
   "source": [
    "推论：<br />\n",
    "$(1)g(x) \\le f(x) \\le h(x)$<br />\n",
    "$(2)\\lim g(x) = A, \\lim h(x) = A$<br />\n",
    "那么：<br />\n",
    "$$\\lim f(x) = A$$"
   ]
  },
  {
   "cell_type": "markdown",
   "metadata": {},
   "source": [
    "重要极限一：<br />\n",
    "$$\\lim_{x \\to 0} \\frac {sinx}{x} = 1$$\n",
    "推论：<br />\n",
    "$$\\lim_{x \\to 0} \\frac {x}{sinx} = 1$$"
   ]
  },
  {
   "cell_type": "markdown",
   "metadata": {},
   "source": [
    "准则二：单调有界数列必有极限<br />\n",
    "收敛数列必有界，有界不一定收敛（如sinx）<br />"
   ]
  },
  {
   "cell_type": "markdown",
   "metadata": {},
   "source": [
    "重要极限二：<br />\n",
    "$$\\lim_{x \\to \\infty}(1 + \\frac {1}{x})^x = e$$\n",
    "推论：<br />\n",
    "$$\\lim_{x \\to 0}(1 + x)^\\frac{1}{x} = e$$"
   ]
  },
  {
   "cell_type": "code",
   "execution_count": null,
   "metadata": {},
   "outputs": [],
   "source": []
  }
 ],
 "metadata": {
  "kernelspec": {
   "display_name": "Python 3",
   "language": "python",
   "name": "python3"
  },
  "language_info": {
   "codemirror_mode": {
    "name": "ipython",
    "version": 3
   },
   "file_extension": ".py",
   "mimetype": "text/x-python",
   "name": "python",
   "nbconvert_exporter": "python",
   "pygments_lexer": "ipython3",
   "version": "3.7.6"
  }
 },
 "nbformat": 4,
 "nbformat_minor": 4
}
