{
 "cells": [
  {
   "cell_type": "markdown",
   "metadata": {},
   "source": [
    "反三角函数：<br />\n",
    "sinx与arcsinx关于y=x对称<br />\n",
    "arcsin,arccos, arctan"
   ]
  },
  {
   "cell_type": "markdown",
   "metadata": {},
   "source": [
    "$f(x)在x_0的去心邻域内有定义，\\exists A, \\forall \\epsilon > 0, \\exists \\delta > 0,使得0<|x-x_0|<\\delta时，|f(x) - A| < \\epsilon$,那么：\n",
    "$$\\lim_{x \\to x_0}f(x) = A$$\n",
    "直观意义：充分接近"
   ]
  },
  {
   "cell_type": "markdown",
   "metadata": {},
   "source": [
    "连续（在邻域内有定义）：<br />\n",
    "$$\\lim_{x \\to x_0}f(x) = f(x_0)$$"
   ]
  },
  {
   "cell_type": "markdown",
   "metadata": {},
   "source": [
    "常用函数的极限：<br />\n",
    "$$\\lim_{x \\to x_0}C = C$$\n",
    "$$\\lim_{x \\to x_0}x = x_0$$\n",
    "$$\\lim_{x \\to 1}\\frac{x^2 - 1}{x-1} $$"
   ]
  },
  {
   "cell_type": "markdown",
   "metadata": {},
   "source": [
    "左极限与右极限（单侧极限）：<br />\n",
    "左极限：$$\\lim_{x \\to x_0^-}f(c)=A$$\n",
    "右极限：$$\\lim_{x \\to x_0^+}f(c)=A$$\n",
    "$x → x_0时，f(x)的极限存在的充分必要条件：左右极限均存在且相等$"
   ]
  },
  {
   "cell_type": "markdown",
   "metadata": {},
   "source": [
    "$x→\\infty时，\\forall \\epsilon > 0, \\exists 正数X, |x|>X时，|f(x) - A| < \\epsilon, 那么：$\n",
    "$$\\lim_{x \\to \\infty}f(x) = A$$"
   ]
  },
  {
   "cell_type": "markdown",
   "metadata": {},
   "source": [
    "函数极限的性质：<br />\n",
    "    1.函数极限唯一<br />\n",
    "    2.局部有界性：<br />\n",
    "    $如果\\lim_{x \\to x_0}f(x) = A, 那么\\exists M > 0, \\delta > 0, 0 < |x - x_0| < \\delta，$\n",
    "$$|f(x)| <= M$$\n",
    "3.局部保号性：<br />\n",
    "$如果\\lim_{x \\to x_0}f(x) = A, A > 0, 那么\\exists \\delta > 0, 0 < |x - x_0| < \\delta，$\n",
    "$$f(x) > 0$$\n",
    "4.数列极限：<br />\n",
    "$如果\\lim_{x \\to x_0}f(x) = A, \\{x_n\\} → x_0, 那么：$\n",
    "$$\\lim_{n \\to \\infty}f(x_n) = \\lim_{x \\to x_0}f(x)$$"
   ]
  },
  {
   "cell_type": "code",
   "execution_count": null,
   "metadata": {},
   "outputs": [],
   "source": []
  }
 ],
 "metadata": {
  "kernelspec": {
   "display_name": "Python 3",
   "language": "python",
   "name": "python3"
  },
  "language_info": {
   "codemirror_mode": {
    "name": "ipython",
    "version": 3
   },
   "file_extension": ".py",
   "mimetype": "text/x-python",
   "name": "python",
   "nbconvert_exporter": "python",
   "pygments_lexer": "ipython3",
   "version": "3.7.6"
  }
 },
 "nbformat": 4,
 "nbformat_minor": 4
}
