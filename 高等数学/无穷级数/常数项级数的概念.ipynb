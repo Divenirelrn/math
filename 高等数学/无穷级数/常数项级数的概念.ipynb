{
 "cells": [
  {
   "cell_type": "markdown",
   "metadata": {},
   "source": [
    "每一项都是常数，组合起来组成级数<br/>\n",
    "级数题型：考察级数的收敛性；若是收敛，求和"
   ]
  },
  {
   "cell_type": "markdown",
   "metadata": {},
   "source": [
    "无穷级数的定义：\n",
    "<img src=\"./1.jpg\" alt=\"\" width=\"100%\" height=\"100%\" align=\"center\" />"
   ]
  },
  {
   "cell_type": "markdown",
   "metadata": {},
   "source": [
    "级数收敛与发散：\n",
    " <img src=\"./2.jpg\" alt=\"\" width=\"60%\" height=\"60%\" align=\"center\" />\n",
    " 否则是发散的"
   ]
  },
  {
   "cell_type": "markdown",
   "metadata": {},
   "source": [
    "余项：\n",
    "<img src=\"./3.jpg\" alt=\"\" width=\"60%\" height=\"60%\" align=\"center\" />"
   ]
  },
  {
   "cell_type": "markdown",
   "metadata": {},
   "source": [
    "等比级数：\n",
    "<img src=\"./4.jpg\" alt=\"\" width=\"100%\" height=\"100%\" align=\"center\" />\n",
    " <img src=\"./5.jpg\" alt=\"\" width=\"30%\" height=\"30%\" align=\"center\" />"
   ]
  },
  {
   "cell_type": "markdown",
   "metadata": {},
   "source": [
    "常数项级数的性质：\n",
    "<img src=\"./6.jpg\" alt=\"\" width=\"100%\" height=\"100%\" align=\"center\" />\n",
    "性质2、4、5比较重要"
   ]
  },
  {
   "cell_type": "markdown",
   "metadata": {},
   "source": [
    "调和级数：\n",
    "<img src=\"./7.jpg\" alt=\"\" width=\"100%\" height=\"100%\" align=\"center\" />"
   ]
  },
  {
   "cell_type": "code",
   "execution_count": null,
   "metadata": {},
   "outputs": [],
   "source": []
  }
 ],
 "metadata": {
  "kernelspec": {
   "display_name": "Python 3",
   "language": "python",
   "name": "python3"
  },
  "language_info": {
   "codemirror_mode": {
    "name": "ipython",
    "version": 3
   },
   "file_extension": ".py",
   "mimetype": "text/x-python",
   "name": "python",
   "nbconvert_exporter": "python",
   "pygments_lexer": "ipython3",
   "version": "3.7.6"
  }
 },
 "nbformat": 4,
 "nbformat_minor": 4
}
