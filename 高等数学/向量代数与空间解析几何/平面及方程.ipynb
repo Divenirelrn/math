{
 "cells": [
  {
   "cell_type": "markdown",
   "metadata": {},
   "source": [
    "$$曲面：F(x,y,z)=0$$\n",
    "$$曲线：\n",
    " \\begin{cases}\n",
    " F(x,y,z)=0\\\\\n",
    " G(x,y,z)=0\n",
    " \\end{cases}\n",
    "$$"
   ]
  },
  {
   "cell_type": "markdown",
   "metadata": {},
   "source": [
    "$法线：与平面垂直的直线$"
   ]
  },
  {
   "cell_type": "markdown",
   "metadata": {},
   "source": [
    "平面：由点与法线确定一个平面（点法式）<br/>\n",
    "$M_0(x_0, y_0, z_0),法线向量n=(A,B,C),M(x,y,z)是平面上任一点，$<br/>\n",
    "$\\vec{M_0M}=(x-x_0, y-y_0, z-z_0),n \\bullet \\vec{M_0M}=0$<br/>\n",
    "$平面方程：A(x-x_0)+B(y-y_0)+C(z-z_0)=0$"
   ]
  },
  {
   "cell_type": "markdown",
   "metadata": {},
   "source": []
  }
 ],
 "metadata": {
  "kernelspec": {
   "display_name": "Python 3",
   "language": "python",
   "name": "python3"
  },
  "language_info": {
   "codemirror_mode": {
    "name": "ipython",
    "version": 3
   },
   "file_extension": ".py",
   "mimetype": "text/x-python",
   "name": "python",
   "nbconvert_exporter": "python",
   "pygments_lexer": "ipython3",
   "version": "3.7.6"
  }
 },
 "nbformat": 4,
 "nbformat_minor": 4
}
