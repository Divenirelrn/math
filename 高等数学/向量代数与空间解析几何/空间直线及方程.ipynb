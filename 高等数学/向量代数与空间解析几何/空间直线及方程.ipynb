{
 "cells": [
  {
   "cell_type": "markdown",
   "metadata": {},
   "source": [
    "一般方程：<br/>\n",
    "$$\n",
    " \\begin{cases}\n",
    " A_1x+B_1y+C_1z+D_1=0\\\\\n",
    " A_2x+B_2y+C_2z+D_2=0\n",
    " \\end{cases}\n",
    "$$"
   ]
  },
  {
   "cell_type": "markdown",
   "metadata": {},
   "source": [
    "对称式方程：<br/>\n",
    "方向向量<br/>\n",
    "$过一个点M_0(x_0, y_0, z_0),方向向量S=(m,n,p)$<br/>\n",
    "$$\\frac{x-x_0}{m}=\\frac{y-y_0}{n}=\\frac{z-z_0}{p}=t$$"
   ]
  },
  {
   "cell_type": "markdown",
   "metadata": {},
   "source": [
    "参数方程：<br/>\n",
    "$$\n",
    " \\begin{cases}\n",
    " x=x_0+mt\\\\\n",
    " y=y_0+nt\\\\\n",
    " z=z_0+pt\n",
    " \\end{cases}\n",
    "$$"
   ]
  },
  {
   "cell_type": "markdown",
   "metadata": {},
   "source": []
  }
 ],
 "metadata": {
  "kernelspec": {
   "display_name": "Python 3",
   "language": "python",
   "name": "python3"
  },
  "language_info": {
   "codemirror_mode": {
    "name": "ipython",
    "version": 3
   },
   "file_extension": ".py",
   "mimetype": "text/x-python",
   "name": "python",
   "nbconvert_exporter": "python",
   "pygments_lexer": "ipython3",
   "version": "3.7.6"
  }
 },
 "nbformat": 4,
 "nbformat_minor": 4
}
