{
 "cells": [
  {
   "cell_type": "markdown",
   "metadata": {},
   "source": [
    "多重积分的基础"
   ]
  },
  {
   "cell_type": "markdown",
   "metadata": {},
   "source": [
    "$向量：\\vec{a},\\vec{AB}既有大小又有方向（不管起点）$"
   ]
  },
  {
   "cell_type": "markdown",
   "metadata": {},
   "source": [
    "$向量相等：方向相同，大小相等$"
   ]
  },
  {
   "cell_type": "markdown",
   "metadata": {},
   "source": [
    "向量大小（长度）：模（范数），$|\\vec{\\alpha}|$"
   ]
  },
  {
   "cell_type": "markdown",
   "metadata": {},
   "source": [
    "单位向量、0向量"
   ]
  },
  {
   "cell_type": "markdown",
   "metadata": {},
   "source": [
    "向量平行、垂直、共线"
   ]
  },
  {
   "cell_type": "markdown",
   "metadata": {},
   "source": [
    "向量线性运算：<br/>\n",
    "$1.c = a + b$<br/>\n",
    "$a+b = b+a$"
   ]
  },
  {
   "cell_type": "markdown",
   "metadata": {},
   "source": [
    "<img src=\"./1.jpg\" alt=\"\" width=\"50%\" height=\"50%\" align=\"center\" />"
   ]
  },
  {
   "cell_type": "markdown",
   "metadata": {},
   "source": [
    "$2.b-a=b+(-a)(减法)$"
   ]
  },
  {
   "cell_type": "markdown",
   "metadata": {},
   "source": [
    "$3.\\lambda a$"
   ]
  },
  {
   "cell_type": "code",
   "execution_count": null,
   "metadata": {},
   "outputs": [],
   "source": []
  }
 ],
 "metadata": {
  "kernelspec": {
   "display_name": "Python 3",
   "language": "python",
   "name": "python3"
  },
  "language_info": {
   "codemirror_mode": {
    "name": "ipython",
    "version": 3
   },
   "file_extension": ".py",
   "mimetype": "text/x-python",
   "name": "python",
   "nbconvert_exporter": "python",
   "pygments_lexer": "ipython3",
   "version": "3.7.6"
  }
 },
 "nbformat": 4,
 "nbformat_minor": 4
}
