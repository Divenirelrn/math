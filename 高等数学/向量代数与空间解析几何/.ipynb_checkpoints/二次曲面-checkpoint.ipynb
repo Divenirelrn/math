{
 "cells": [
  {
   "cell_type": "markdown",
   "metadata": {},
   "source": [
    "$若曲面F(x,y,z)为三元二次方程，则该曲面为二次曲面$"
   ]
  },
  {
   "cell_type": "markdown",
   "metadata": {},
   "source": [
    "椭圆锥面<br/>\n",
    "椭球面<br/>\n",
    "椭圆抛物面<br/>\n"
   ]
  }
 ],
 "metadata": {
  "kernelspec": {
   "display_name": "Python 3",
   "language": "python",
   "name": "python3"
  },
  "language_info": {
   "codemirror_mode": {
    "name": "ipython",
    "version": 3
   },
   "file_extension": ".py",
   "mimetype": "text/x-python",
   "name": "python",
   "nbconvert_exporter": "python",
   "pygments_lexer": "ipython3",
   "version": "3.7.6"
  }
 },
 "nbformat": 4,
 "nbformat_minor": 4
}
