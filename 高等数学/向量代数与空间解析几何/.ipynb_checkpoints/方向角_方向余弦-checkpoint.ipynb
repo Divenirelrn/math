{
 "cells": [
  {
   "cell_type": "markdown",
   "metadata": {},
   "source": [
    "$\\vec{OM} = r = (x,y,z)$<br/>\n",
    "$cos\\alpha = \\frac{x}{|OM|} = \\frac{x}{|r|}$<br/>\n",
    "$cos\\beta = \\frac{y}{|r|}$<br/>\n",
    "$cos\\gamma  = \\frac{z}{|r|}$<br/>"
   ]
  },
  {
   "cell_type": "markdown",
   "metadata": {},
   "source": [
    "$(cos\\alpha,cos\\beta,cos\\gamma) = (\\frac{x}{|r|},\\frac{y}{|r|},\\frac{z}{|r|})\\quad(与r同方向的单位向量，方向余弦)$"
   ]
  },
  {
   "cell_type": "markdown",
   "metadata": {},
   "source": [
    "$\\frac{1}{|r|}(x,y,z)=\\frac{1}{|r|}r=e_r(单位化)$"
   ]
  },
  {
   "cell_type": "markdown",
   "metadata": {},
   "source": [
    "$cos^2\\alpha + cos^2\\beta+cos^2\\gamma = 1$"
   ]
  },
  {
   "cell_type": "markdown",
   "metadata": {},
   "source": [
    "$cos\\alpha = -\\frac{1}{2}, \\alpha = \\frac{\\pi}{3}\\quad(方向角)$"
   ]
  },
  {
   "cell_type": "markdown",
   "metadata": {},
   "source": [
    "投影：<br/>\n",
    "<img src=\"./3.jpg\" alt=\"\" width=\"50%\" height=\"50%\" align=\"center\" />"
   ]
  },
  {
   "cell_type": "markdown",
   "metadata": {},
   "source": [
    "$P_{rj_x}r$"
   ]
  },
  {
   "cell_type": "markdown",
   "metadata": {},
   "source": [
    "性质：<br/>\n",
    "$1.P_{rj_x}\\alpha = |\\alpha|cos\\phi$<br/>\n",
    "$2.P_{rj_x}(a+b)=P_{rj_x}a+P_{rj_x}b$<br/>\n",
    "$3.P_{rj_x}\\lambda a=\\lambda P_{rj_x}a$<br/>"
   ]
  },
  {
   "cell_type": "code",
   "execution_count": null,
   "metadata": {},
   "outputs": [],
   "source": []
  }
 ],
 "metadata": {
  "kernelspec": {
   "display_name": "Python 3",
   "language": "python",
   "name": "python3"
  },
  "language_info": {
   "codemirror_mode": {
    "name": "ipython",
    "version": 3
   },
   "file_extension": ".py",
   "mimetype": "text/x-python",
   "name": "python",
   "nbconvert_exporter": "python",
   "pygments_lexer": "ipython3",
   "version": "3.7.6"
  }
 },
 "nbformat": 4,
 "nbformat_minor": 4
}
