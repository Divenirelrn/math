{
 "cells": [
  {
   "cell_type": "markdown",
   "metadata": {},
   "source": [
    "积分上限函数：<br/>\n",
    "$\\Phi(x) = \\int_{a}^{x}f(t)dt$"
   ]
  },
  {
   "cell_type": "markdown",
   "metadata": {},
   "source": [
    "$定理一：\\Phi'(x) = \\frac{d}{dx}\\int_{a}^{x}f(t)dt = f(x)$"
   ]
  },
  {
   "cell_type": "markdown",
   "metadata": {},
   "source": [
    "$定理二：\\Phi(x) = \\int_{a}^{x}f(t)dt是f(x)的一个原函数$"
   ]
  },
  {
   "cell_type": "markdown",
   "metadata": {},
   "source": [
    "$牛顿-莱布尼兹公式（定积分基本定理）：$<br/>\n",
    "$\\int_{a}^{b}f(x)dx = F(x)|_a^b = F(b) - F(a)$<br/>\n",
    "$F(x)为原函数$"
   ]
  },
  {
   "cell_type": "code",
   "execution_count": null,
   "metadata": {},
   "outputs": [],
   "source": []
  }
 ],
 "metadata": {
  "kernelspec": {
   "display_name": "Python 3",
   "language": "python",
   "name": "python3"
  },
  "language_info": {
   "codemirror_mode": {
    "name": "ipython",
    "version": 3
   },
   "file_extension": ".py",
   "mimetype": "text/x-python",
   "name": "python",
   "nbconvert_exporter": "python",
   "pygments_lexer": "ipython3",
   "version": "3.7.6"
  }
 },
 "nbformat": 4,
 "nbformat_minor": 4
}
