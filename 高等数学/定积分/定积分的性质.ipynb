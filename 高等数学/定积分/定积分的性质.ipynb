{
 "cells": [
  {
   "cell_type": "markdown",
   "metadata": {},
   "source": [
    "$1.b=a,\\int_{a}^{a} = 0$<br/>\n",
    "$2.\\int_{a}^{b}f(x)dx = -\\int{b}^{a}f(x)dx$"
   ]
  },
  {
   "cell_type": "markdown",
   "metadata": {},
   "source": [
    "$\\int_{a}^{b}(\\alpha f(x) + \\beta g(x))dx = \\alpha \\int_{a}^{b}f(x)dx + \\beta \\int_{a}^{b}g(x)dx$<br/>\n",
    "$a<c<b, \\int_{a}^{b}f(x)dx = \\int_{a}^{c}f(x)dx + \\int_{c}^{b}f(x)dx$<br/>\n",
    "$f(x)恒等于1，\\int_{a}^{b}1dx = b - a$<br/>\n",
    "$f(x) \\ge 0, \\int_{a}^{b}f(x)dx \\ge 0$<br/>\n",
    "$f(x) \\le 0, \\int_{a}^{b}f(x)dx \\le 0$<br/>\n",
    "$|\\int_{a}^{b}f(x)dx| \\le \\int_{a}^{b}|f(x)|dx$<br/>\n",
    "$\\mu,m为最大值与最小值，m(b-a) \\le \\int_{a}^{b}f(x)dx \\le \\mu (b-a)$<br/>\n",
    "$定积分中值定理：如果f(x)连续，\\exists \\zeta \\in [a,b],使得：$<br/>\n",
    "$$\\int_{a}^{b}f(x)dx = f(\\zeta)(b-a)$$"
   ]
  },
  {
   "cell_type": "code",
   "execution_count": null,
   "metadata": {},
   "outputs": [],
   "source": []
  }
 ],
 "metadata": {
  "kernelspec": {
   "display_name": "Python 3",
   "language": "python",
   "name": "python3"
  },
  "language_info": {
   "codemirror_mode": {
    "name": "ipython",
    "version": 3
   },
   "file_extension": ".py",
   "mimetype": "text/x-python",
   "name": "python",
   "nbconvert_exporter": "python",
   "pygments_lexer": "ipython3",
   "version": "3.7.6"
  }
 },
 "nbformat": 4,
 "nbformat_minor": 4
}
