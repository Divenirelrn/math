{
 "cells": [
  {
   "cell_type": "markdown",
   "metadata": {},
   "source": [
    "<img src=\"./1.jpg\" alt=\"曲面梯形面积\" width=\"50%\" height=\"50%\" align=\"center\" />"
   ]
  },
  {
   "cell_type": "markdown",
   "metadata": {},
   "source": [
    "曲边梯形面积：<br/>\n",
    "$分点：a=x_0<x_1<x_2<\\cdots<x_n=b$<br/>\n",
    "$得到：\\Delta x_1, \\Delta x_2, \\cdots, \\Delta x_n$<br/>\n",
    "$\\lambda = max\\{\\Delta x_1, \\Delta x_2, \\cdots, \\Delta x_n\\}$<br/>\n",
    "$A = \\Delta x_1 f(\\zeta_1) + \\Delta x_2 f(\\zeta_2) + \\cdots + \\Delta x_n f(\\zeta_n)\\quad(面积近似值)$<br/>\n",
    "$A = \\lim_{\\lambda \\to 0}\\sum_{i=1}^nf(\\zeta_i)\\Delta x_i$"
   ]
  },
  {
   "cell_type": "markdown",
   "metadata": {},
   "source": [
    "$定义：f(x)在[a,b]有界，在[a,b]上任意插入若干分点，分成n个小区间，各区间长度\\Delta x_1, \\Delta x_2, \\cdots, \\Delta x_n，在小区间任取一点\\zeta_i$<br/>\n",
    "$\\lambda = max\\{\\Delta x_1, \\Delta x_2, \\cdots, \\Delta x_n\\}$<br/>\n",
    "$$\\int_{a}^{b} f(x)dx = \\lim_{\\lambda \\to 0}\\sum_{i=1}^nf(\\zeta_i)\\Delta x_i$$"
   ]
  },
  {
   "cell_type": "markdown",
   "metadata": {},
   "source": [
    "定积分求出来是一个数，这个数只与f(x)，[a,b]有关，与积分变量无关"
   ]
  },
  {
   "cell_type": "markdown",
   "metadata": {},
   "source": [
    "定理一：只要连续，就可积<br/>\n",
    "定理二：有界，有有限个间断点，也可积<br/>"
   ]
  },
  {
   "cell_type": "markdown",
   "metadata": {},
   "source": [
    "几何意义：曲线与x轴围成的阴影部分面积"
   ]
  },
  {
   "cell_type": "markdown",
   "metadata": {},
   "source": []
  }
 ],
 "metadata": {
  "kernelspec": {
   "display_name": "Python 3",
   "language": "python",
   "name": "python3"
  },
  "language_info": {
   "codemirror_mode": {
    "name": "ipython",
    "version": 3
   },
   "file_extension": ".py",
   "mimetype": "text/x-python",
   "name": "python",
   "nbconvert_exporter": "python",
   "pygments_lexer": "ipython3",
   "version": "3.7.6"
  }
 },
 "nbformat": 4,
 "nbformat_minor": 4
}
