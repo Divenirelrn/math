{
 "cells": [
  {
   "cell_type": "markdown",
   "metadata": {},
   "source": [
    "$定理：F(x_0, y_0)=0, F'_y(x_0, y_0) \\ne 0$<br/>\n",
    "$$\\frac{dy}{dx} = -\\frac{F'_x}{F'_y}$$"
   ]
  },
  {
   "cell_type": "markdown",
   "metadata": {},
   "source": [
    "$例， 求导：x^2 + y^2 -1 =0$"
   ]
  },
  {
   "cell_type": "markdown",
   "metadata": {},
   "source": [
    "$F(x,y,z)=0, F'_z(x_0, y_0, z_0) \\ne 0$<br/>\n",
    "$\\frac{\\partial z}{\\partial x} = -\\frac{F'_x}{F'_z},\\frac{\\partial z}{\\partial y} = -\\frac{F'_y}{F'_z}$"
   ]
  },
  {
   "cell_type": "markdown",
   "metadata": {},
   "source": [
    "$例：x^2 + y^2 + z^2-4z=0$"
   ]
  },
  {
   "cell_type": "markdown",
   "metadata": {},
   "source": [
    "方程组的情形：\n",
    "$$\n",
    " \\begin{cases}\n",
    " xu-yv=0\\\\\n",
    " yu + xv=1\n",
    " \\end{cases}\n",
    "$$"
   ]
  },
  {
   "cell_type": "markdown",
   "metadata": {},
   "source": [
    "求：$\\frac{\\partial u}{\\partial x},\\frac{\\partial v}{\\partial x},\\frac{\\partial u}{\\partial y},\\frac{\\partial v}{\\partial y}$"
   ]
  },
  {
   "cell_type": "code",
   "execution_count": null,
   "metadata": {},
   "outputs": [],
   "source": []
  }
 ],
 "metadata": {
  "kernelspec": {
   "display_name": "Python 3",
   "language": "python",
   "name": "python3"
  },
  "language_info": {
   "codemirror_mode": {
    "name": "ipython",
    "version": 3
   },
   "file_extension": ".py",
   "mimetype": "text/x-python",
   "name": "python",
   "nbconvert_exporter": "python",
   "pygments_lexer": "ipython3",
   "version": "3.7.6"
  }
 },
 "nbformat": 4,
 "nbformat_minor": 4
}
