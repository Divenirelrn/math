{
 "cells": [
  {
   "cell_type": "markdown",
   "metadata": {},
   "source": [
    "多元函数微分学的几何应用"
   ]
  },
  {
   "cell_type": "markdown",
   "metadata": {},
   "source": [
    "$D \\subset R, f:D \\rightarrow R^n$<br/>\n",
    "$f(t) = f_1(t)i+f_2(t)j+f_3(t)k=(f_1(t),f_2(t),f_3(t))$<br/>\n",
    "从数值映射到三维向量（向量值函数）<br/>\n",
    "只有一元t(一元)"
   ]
  },
  {
   "cell_type": "markdown",
   "metadata": {},
   "source": [
    "$f'(t_0)=f'_1(t_0)i + f'_2(t_0)i + f'_3(t_0)i=(f'_1(t_0),f'_2(t_0),f'_3(t_0))$"
   ]
  },
  {
   "cell_type": "markdown",
   "metadata": {},
   "source": [
    "<img src=\"./2.jpg\" alt=\"\" width=\"50%\" height=\"50%\" align=\"center\" />"
   ]
  },
  {
   "cell_type": "code",
   "execution_count": null,
   "metadata": {},
   "outputs": [],
   "source": []
  }
 ],
 "metadata": {
  "kernelspec": {
   "display_name": "Python 3",
   "language": "python",
   "name": "python3"
  },
  "language_info": {
   "codemirror_mode": {
    "name": "ipython",
    "version": 3
   },
   "file_extension": ".py",
   "mimetype": "text/x-python",
   "name": "python",
   "nbconvert_exporter": "python",
   "pygments_lexer": "ipython3",
   "version": "3.7.6"
  }
 },
 "nbformat": 4,
 "nbformat_minor": 4
}
