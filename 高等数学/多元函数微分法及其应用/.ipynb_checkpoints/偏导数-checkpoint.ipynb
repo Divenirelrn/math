{
 "cells": [
  {
   "cell_type": "markdown",
   "metadata": {},
   "source": [
    "$z=f(x,y)$<br/>\n",
    "$对x的偏导：$<br/>\n",
    "$$\\frac{\\partial z}{\\partial x} = \\lim_{\\Delta x \\to 0}\\frac{f(x_0+\\Delta x, y_0)-f(x_0, y_0)}{\\Delta x}$$"
   ]
  },
  {
   "cell_type": "markdown",
   "metadata": {},
   "source": [
    "$对y的偏导：$<br/>\n",
    "$$\\frac{\\partial z}{\\partial y} = \\lim_{\\Delta y \\to 0}\\frac{f(x_0, y_0 + \\Delta y_0)-f(x_0, y_0)}{\\Delta y}$$"
   ]
  },
  {
   "cell_type": "markdown",
   "metadata": {},
   "source": [
    "$Z'_y, f'_y(x,y)$"
   ]
  },
  {
   "cell_type": "markdown",
   "metadata": {},
   "source": [
    "求x的偏导，将y视为常数即可"
   ]
  },
  {
   "cell_type": "markdown",
   "metadata": {},
   "source": [
    "几何含义"
   ]
  },
  {
   "cell_type": "markdown",
   "metadata": {},
   "source": []
  }
 ],
 "metadata": {
  "kernelspec": {
   "display_name": "Python 3",
   "language": "python",
   "name": "python3"
  },
  "language_info": {
   "codemirror_mode": {
    "name": "ipython",
    "version": 3
   },
   "file_extension": ".py",
   "mimetype": "text/x-python",
   "name": "python",
   "nbconvert_exporter": "python",
   "pygments_lexer": "ipython3",
   "version": "3.7.6"
  }
 },
 "nbformat": 4,
 "nbformat_minor": 4
}
