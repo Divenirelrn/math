{
 "cells": [
  {
   "cell_type": "markdown",
   "metadata": {},
   "source": [
    "<img src=\"./5.jpg\" alt=\"\" width=\"100%\" height=\"100%\" align=\"center\" />"
   ]
  },
  {
   "cell_type": "markdown",
   "metadata": {},
   "source": [
    "f对x的偏导：曲面上的一点，过该点且与y轴垂直的平面，与该曲面相交的曲线，该曲线的切线的斜率<br/>\n",
    "f对y的偏导：曲面上的一点，过该点且与x轴垂直的平面，与该曲面相交的曲线，该曲线的切线的斜率"
   ]
  },
  {
   "cell_type": "markdown",
   "metadata": {},
   "source": [
    "偏导数的方向是沿着x轴方向或y轴方向，是垂直于x轴或y轴的平面与曲面的相交曲线的切线的斜率<br/>\n",
    "而方向导数是沿着任意方向,是垂直于x-y平面的任意平面与曲面的相交曲线的切线的斜率"
   ]
  },
  {
   "cell_type": "markdown",
   "metadata": {},
   "source": [
    "在空间上一点沿着任意方向的导数"
   ]
  },
  {
   "cell_type": "markdown",
   "metadata": {},
   "source": [
    "<img src=\"./6.jpg\" alt=\"\" width=\"60%\" height=\"60%\" align=\"center\" />"
   ]
  },
  {
   "cell_type": "markdown",
   "metadata": {},
   "source": [
    "$在（x_0, y_0）处沿着l方向的方向导数：$\n",
    "<img src=\"./7.jpg\" alt=\"\" width=\"100%\" height=\"100%\" align=\"center\" />"
   ]
  },
  {
   "cell_type": "markdown",
   "metadata": {},
   "source": [
    "取(1,0)方向与(0,1)方向，若两个方向的方向导数都存在，则这就是偏导数"
   ]
  },
  {
   "cell_type": "markdown",
   "metadata": {},
   "source": [
    "方向导数存在，偏导数不一定存在（圆锥曲面的顶点）"
   ]
  },
  {
   "cell_type": "markdown",
   "metadata": {},
   "source": [
    " <img src=\"./8.jpg\" alt=\"\" width=\"100%\" height=\"100%\" align=\"center\" />"
   ]
  },
  {
   "cell_type": "markdown",
   "metadata": {},
   "source": [
    "<img src=\"./9.jpg\" alt=\"\" width=\"100%\" height=\"100%\" align=\"center\" />"
   ]
  },
  {
   "cell_type": "markdown",
   "metadata": {},
   "source": [
    "多元函数：<br/>\n",
    "偏导存在，未必连续（偏导只是从x、y两个方向逼近，函数只在两个方向连续）<br/>\n",
    "可微，则偏导连续<br/>\n",
    "偏导存在且连续，则可微<br/>\n",
    "可微，则连续<br/>\n",
    "可微，则方向导数存在<br/>"
   ]
  },
  {
   "cell_type": "markdown",
   "metadata": {},
   "source": [
    "一元函数导数是老大<br/>\n",
    "多元函数可微是老大"
   ]
  },
  {
   "cell_type": "code",
   "execution_count": null,
   "metadata": {},
   "outputs": [],
   "source": []
  }
 ],
 "metadata": {
  "kernelspec": {
   "display_name": "Python 3",
   "language": "python",
   "name": "python3"
  },
  "language_info": {
   "codemirror_mode": {
    "name": "ipython",
    "version": 3
   },
   "file_extension": ".py",
   "mimetype": "text/x-python",
   "name": "python",
   "nbconvert_exporter": "python",
   "pygments_lexer": "ipython3",
   "version": "3.7.6"
  }
 },
 "nbformat": 4,
 "nbformat_minor": 4
}
