{
 "cells": [
  {
   "cell_type": "markdown",
   "metadata": {},
   "source": [
    "$(x,y) \\rightarrow (x_0, y_0), f(x,y) \\rightarrow A, 以任意方式逼近(x_0, y_0),记作$<br/>\n",
    "$$\\lim_{(x,y) \\to (x_0, y_0)}f(x,y)=A$$"
   ]
  },
  {
   "cell_type": "markdown",
   "metadata": {},
   "source": [
    "以不同方式逼近，极限不相等"
   ]
  },
  {
   "cell_type": "markdown",
   "metadata": {},
   "source": [
    "$例：求\\lim_{(x,y) \\to (0,2)}\\frac{sin(xy)}{x}$"
   ]
  },
  {
   "cell_type": "code",
   "execution_count": null,
   "metadata": {},
   "outputs": [],
   "source": []
  }
 ],
 "metadata": {
  "kernelspec": {
   "display_name": "Python 3",
   "language": "python",
   "name": "python3"
  },
  "language_info": {
   "codemirror_mode": {
    "name": "ipython",
    "version": 3
   },
   "file_extension": ".py",
   "mimetype": "text/x-python",
   "name": "python",
   "nbconvert_exporter": "python",
   "pygments_lexer": "ipython3",
   "version": "3.7.6"
  }
 },
 "nbformat": 4,
 "nbformat_minor": 4
}
