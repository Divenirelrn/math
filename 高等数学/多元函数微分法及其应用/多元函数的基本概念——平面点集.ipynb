{
 "cells": [
  {
   "cell_type": "markdown",
   "metadata": {},
   "source": [
    "在平面上的点的集合<br/>\n",
    "$R^2=R \\times R = {(x,y | x,y \\in R)} \\quad(坐标平面)$<br/>\n",
    "$E= \\{(x,y)|x,y性质\\}$<br/>"
   ]
  },
  {
   "cell_type": "markdown",
   "metadata": {},
   "source": [
    "如：$\\{(x,y)|x^2+y^2<r^2\\}\\quad(圆的面积)$"
   ]
  },
  {
   "cell_type": "markdown",
   "metadata": {},
   "source": [
    "$邻域：U(P_0, \\delta) = \\{P||PP_0|<\\delta\\}$<br/>\n",
    "<img src=\"./1.jpg\" alt=\"\" width=\"20%\" height=\"20%\" align=\"center\" />"
   ]
  },
  {
   "cell_type": "markdown",
   "metadata": {},
   "source": [
    "去心邻域"
   ]
  },
  {
   "cell_type": "markdown",
   "metadata": {},
   "source": [
    "内点：点集以内的点"
   ]
  },
  {
   "cell_type": "markdown",
   "metadata": {},
   "source": [
    "外点：外面的点<br/>\n",
    "边界点<br/>\n",
    "聚点：$\\forall \\delta >0, 去心邻域U总有E的点$"
   ]
  },
  {
   "cell_type": "markdown",
   "metadata": {},
   "source": [
    "开集（不包含边界）<br/>\n",
    "闭集（包含边界）<br/>\n",
    "连通集"
   ]
  },
  {
   "cell_type": "markdown",
   "metadata": {},
   "source": [
    "区域（开区域、闭区域）"
   ]
  },
  {
   "cell_type": "markdown",
   "metadata": {},
   "source": [
    "有界集<br/>\n",
    "无界集"
   ]
  },
  {
   "cell_type": "code",
   "execution_count": null,
   "metadata": {},
   "outputs": [],
   "source": []
  }
 ],
 "metadata": {
  "kernelspec": {
   "display_name": "Python 3",
   "language": "python",
   "name": "python3"
  },
  "language_info": {
   "codemirror_mode": {
    "name": "ipython",
    "version": 3
   },
   "file_extension": ".py",
   "mimetype": "text/x-python",
   "name": "python",
   "nbconvert_exporter": "python",
   "pygments_lexer": "ipython3",
   "version": "3.7.6"
  }
 },
 "nbformat": 4,
 "nbformat_minor": 4
}
