{
 "cells": [
  {
   "cell_type": "markdown",
   "metadata": {},
   "source": [
    "$f(x_0 + \\Delta x) \\approx f'(x_0)\\Delta x + f(x_0)$"
   ]
  },
  {
   "cell_type": "markdown",
   "metadata": {},
   "source": [
    "$x \\rightarrow 0$<br/>\n",
    "$(1+x)^\\alpha \\approx 1 + \\alpha x$<br/>\n",
    "$sinx \\approx x$<br/>\n",
    "$tanx \\approx x$<br/>\n",
    "$e^x \\approx 1 + x$<br/>\n",
    "$ln(1 + x) \\approx x$<br/>"
   ]
  },
  {
   "cell_type": "markdown",
   "metadata": {},
   "source": [
    "意义：用x的多项式近似复杂函数"
   ]
  }
 ],
 "metadata": {
  "kernelspec": {
   "display_name": "Python 3",
   "language": "python",
   "name": "python3"
  },
  "language_info": {
   "codemirror_mode": {
    "name": "ipython",
    "version": 3
   },
   "file_extension": ".py",
   "mimetype": "text/x-python",
   "name": "python",
   "nbconvert_exporter": "python",
   "pygments_lexer": "ipython3",
   "version": "3.7.6"
  }
 },
 "nbformat": 4,
 "nbformat_minor": 4
}
