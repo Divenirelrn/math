{
 "cells": [
  {
   "cell_type": "markdown",
   "metadata": {},
   "source": [
    "$x=f(y)在I_y内单调可导，f'(y)\\ne0,反函数y=f^{-1}(x),则:$<br/>\n",
    "$$[f^{-1}(x)]'=\\frac{1}{f'(y)}$$"
   ]
  },
  {
   "cell_type": "markdown",
   "metadata": {},
   "source": [
    "$(arcsinx)' = \\frac{1}{\\sqrt{1-x^2}}$<br/>\n",
    "$(arccosx)' = -\\frac{1}{\\sqrt{1-x^2}}$<br/>\n",
    "$(arctanx)' = \\frac{1}{1+x^2}$<br/>\n",
    "$(arccotx)' = -\\frac{1}{1+x^2}$<br/>\n",
    "$(log_ax)' = \\frac{1}{xlna}$<br/>"
   ]
  },
  {
   "cell_type": "code",
   "execution_count": null,
   "metadata": {},
   "outputs": [],
   "source": []
  }
 ],
 "metadata": {
  "kernelspec": {
   "display_name": "Python 3",
   "language": "python",
   "name": "python3"
  },
  "language_info": {
   "codemirror_mode": {
    "name": "ipython",
    "version": 3
   },
   "file_extension": ".py",
   "mimetype": "text/x-python",
   "name": "python",
   "nbconvert_exporter": "python",
   "pygments_lexer": "ipython3",
   "version": "3.7.6"
  }
 },
 "nbformat": 4,
 "nbformat_minor": 2
}
