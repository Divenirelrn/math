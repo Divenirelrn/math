{
 "cells": [
  {
   "cell_type": "markdown",
   "metadata": {},
   "source": [
    "$y=f(x)在x_0的领域内有定义，在x_0处取\\Delta x, \\Delta y = f(x_0 + \\Delta x) - f(x_0), 如果：$\n",
    "$$\\lim_{\\Delta x \\to 0}\\frac{\\Delta y}{\\Delta x} = \\lim_{\\Delta x \\to 0}\\frac{f(x_0 + \\Delta x) - f(x_0)}{\\Delta x}$$\n",
    "存在，那么该极限值为f(x)在$x_0$处的导数，记作$f'(x_0)或y'或y|_{x=x_0}或\\frac{dy}{dx}|_{x = x_0}$"
   ]
  },
  {
   "cell_type": "markdown",
   "metadata": {},
   "source": [
    "导数的第二种定义：<br />\n",
    "$$\\lim_{h \\to 0}\\frac{f(x_0 + h) - f(x_0)}{h}$$"
   ]
  },
  {
   "cell_type": "markdown",
   "metadata": {},
   "source": [
    "导数的第三种定义：<br />\n",
    "$$\\lim_{x \\to x_0}\\frac{f(x) - f(x_0)}{x - x_0}$$"
   ]
  },
  {
   "cell_type": "markdown",
   "metadata": {},
   "source": [
    "直观意义是光滑"
   ]
  },
  {
   "cell_type": "code",
   "execution_count": null,
   "metadata": {},
   "outputs": [],
   "source": []
  }
 ],
 "metadata": {
  "kernelspec": {
   "display_name": "Python 3",
   "language": "python",
   "name": "python3"
  },
  "language_info": {
   "codemirror_mode": {
    "name": "ipython",
    "version": 3
   },
   "file_extension": ".py",
   "mimetype": "text/x-python",
   "name": "python",
   "nbconvert_exporter": "python",
   "pygments_lexer": "ipython3",
   "version": "3.7.6"
  }
 },
 "nbformat": 4,
 "nbformat_minor": 4
}
