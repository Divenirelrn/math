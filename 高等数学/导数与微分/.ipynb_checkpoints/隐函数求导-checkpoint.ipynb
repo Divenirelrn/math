{
 "cells": [
  {
   "cell_type": "markdown",
   "metadata": {},
   "source": [
    "隐函数：<br/>\n",
    "$e^y+xy-e=0$"
   ]
  },
  {
   "cell_type": "markdown",
   "metadata": {},
   "source": [
    "求解方法：两边同时对x求导<br/>\n",
    "$e^y y' + y + xy' = 0$<br/>\n",
    "$y' = -\\frac{y}{e^y + x}$"
   ]
  },
  {
   "cell_type": "markdown",
   "metadata": {},
   "source": [
    "$y = e^x \\bullet x^2 \\bullet lnx \\bullet tanx 求导：$<br/>\n",
    "转化为：<br/>\n",
    "$lny = ln(e^x x^2 lnx tanx)$"
   ]
  },
  {
   "cell_type": "code",
   "execution_count": null,
   "metadata": {},
   "outputs": [],
   "source": []
  }
 ],
 "metadata": {
  "kernelspec": {
   "display_name": "Python 3",
   "language": "python",
   "name": "python3"
  },
  "language_info": {
   "codemirror_mode": {
    "name": "ipython",
    "version": 3
   },
   "file_extension": ".py",
   "mimetype": "text/x-python",
   "name": "python",
   "nbconvert_exporter": "python",
   "pygments_lexer": "ipython3",
   "version": "3.7.6"
  }
 },
 "nbformat": 4,
 "nbformat_minor": 4
}
