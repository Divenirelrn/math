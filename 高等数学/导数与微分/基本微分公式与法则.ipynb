{
 "cells": [
  {
   "cell_type": "markdown",
   "metadata": {},
   "source": [
    "微分基本公式：<br/>\n",
    "$$dy = f'(x)dx$$"
   ]
  },
  {
   "cell_type": "markdown",
   "metadata": {},
   "source": [
    "$d(u \\pm v) = du \\pm dv$<br/>\n",
    "$d(cu) = cdu$<br/>\n",
    "$d(uv) = vdu + udv$<br/>\n",
    "$d(\\frac{u}{v}) = \\frac{vdu - udv}{v^2}$"
   ]
  },
  {
   "cell_type": "markdown",
   "metadata": {},
   "source": [
    "复合函数的微分：<br/>\n",
    "$y = f(u), u=g(x)$\n",
    "$$dy = f'(u)g'(x)dx = f'(u)du$$"
   ]
  },
  {
   "cell_type": "markdown",
   "metadata": {},
   "source": [
    "微分形式不变性"
   ]
  },
  {
   "cell_type": "markdown",
   "metadata": {},
   "source": []
  }
 ],
 "metadata": {
  "kernelspec": {
   "display_name": "Python 3",
   "language": "python",
   "name": "python3"
  },
  "language_info": {
   "codemirror_mode": {
    "name": "ipython",
    "version": 3
   },
   "file_extension": ".py",
   "mimetype": "text/x-python",
   "name": "python",
   "nbconvert_exporter": "python",
   "pygments_lexer": "ipython3",
   "version": "3.7.6"
  }
 },
 "nbformat": 4,
 "nbformat_minor": 4
}
