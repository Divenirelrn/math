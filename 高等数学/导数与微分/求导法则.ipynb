{
 "cells": [
  {
   "cell_type": "markdown",
   "metadata": {},
   "source": [
    "加减乘除：<br/>\n",
    "$(u \\pm v)' = u' \\pm v'$<br/>\n",
    "$(uv)' = u'v + uv'$<br/>\n",
    "$(cv)' = cv'$<br />\n",
    "$(\\frac{u}{v})' = \\frac{u'v - uv'}{v^2}$<br />"
   ]
  },
  {
   "cell_type": "markdown",
   "metadata": {},
   "source": [
    "$secx = \\frac{1}{cos}\\quad(正割)$<br/>\n",
    "$cscx = \\frac{1}{sinx}\\quad(余割)$<br/>\n",
    "$cotx = \\frac{1}{tanx}\\quad(余切)$"
   ]
  },
  {
   "cell_type": "markdown",
   "metadata": {},
   "source": [
    "三角函数：<br/>\n",
    "$(sinx)' = cosx$<br/>\n",
    "$(cosx)' = -sinx$<br/>\n",
    "$(tanx)' = sec^2x$<br/>\n",
    "$(cotx)' = -csc^2x$<br />\n",
    "$(secx)' = secxtanx$<br/>\n",
    "$(cscx)' = -cscxcotx$"
   ]
  },
  {
   "cell_type": "markdown",
   "metadata": {},
   "source": []
  }
 ],
 "metadata": {
  "kernelspec": {
   "display_name": "Python 3",
   "language": "python",
   "name": "python3"
  },
  "language_info": {
   "codemirror_mode": {
    "name": "ipython",
    "version": 3
   },
   "file_extension": ".py",
   "mimetype": "text/x-python",
   "name": "python",
   "nbconvert_exporter": "python",
   "pygments_lexer": "ipython3",
   "version": "3.7.6"
  }
 },
 "nbformat": 4,
 "nbformat_minor": 2
}
