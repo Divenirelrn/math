{
 "cells": [
  {
   "cell_type": "markdown",
   "metadata": {},
   "source": [
    "$x_0 \\rightarrow x_0 + \\Delta x, \\Delta y = f(x_0 + \\Delta x) - f(x_0)$<br/>\n",
    "微分：怎么样近似出$\\Delta y$"
   ]
  },
  {
   "cell_type": "markdown",
   "metadata": {},
   "source": [
    "<img src=\"./2.jpg\" alt=\"微分\" width=\"50%\" height=\"50%\" align=\"center\" />"
   ]
  },
  {
   "cell_type": "markdown",
   "metadata": {},
   "source": [
    "$\\Delta S = (x_0 + \\Delta x)^2 - x_0^2 = 2x_0 \\Delta x + (\\Delta x)^2$<br/>\n",
    "其中$(\\Delta x)^2$是$\\Delta x$的高阶无穷小，可表示为$o(\\Delta x)$<br/>\n",
    "则：$\\Delta y = A \\Delta x + o(\\Delta x)$"
   ]
  },
  {
   "cell_type": "markdown",
   "metadata": {},
   "source": [
    "微分定义：<br/>\n",
    "$y=f(x)在x的邻域内有定义，x_0 \\rightarrow x_0 + \\Delta x时，\\Delta y = f(x_0 + \\Delta x) - f(x_0)$"
   ]
  },
  {
   "cell_type": "markdown",
   "metadata": {},
   "source": [
    "$其中,\\Delta y是精确值，如果\\Delta y可表示成\\Delta y = A\\Delta x + o(\\Delta x),则y=f(x)在x_0处可微$"
   ]
  },
  {
   "cell_type": "markdown",
   "metadata": {},
   "source": [
    "微分为：<br/>\n",
    "$$dy = A\\Delta x \\quad(近似值)$$\n",
    "$其中，A不依赖于\\Delta x(A相对于\\Delta x来说是常数)$"
   ]
  },
  {
   "cell_type": "markdown",
   "metadata": {},
   "source": [
    "$可微条件：可微 \\iff 可导$"
   ]
  },
  {
   "cell_type": "markdown",
   "metadata": {},
   "source": [
    "$A = f'(x_0), 即：$\n",
    "$$dy = f'(x)dx$$"
   ]
  },
  {
   "cell_type": "markdown",
   "metadata": {},
   "source": []
  }
 ],
 "metadata": {
  "kernelspec": {
   "display_name": "Python 3",
   "language": "python",
   "name": "python3"
  },
  "language_info": {
   "codemirror_mode": {
    "name": "ipython",
    "version": 3
   },
   "file_extension": ".py",
   "mimetype": "text/x-python",
   "name": "python",
   "nbconvert_exporter": "python",
   "pygments_lexer": "ipython3",
   "version": "3.7.6"
  }
 },
 "nbformat": 4,
 "nbformat_minor": 4
}
