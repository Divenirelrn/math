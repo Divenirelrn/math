{
 "cells": [
  {
   "cell_type": "markdown",
   "metadata": {},
   "source": [
    "$C' = 0$<br/>\n",
    "$(x^n)' = nx^{n - 1}$<br/>\n",
    "$(sinx)' = cosx$<br />\n",
    "$(cosx)' = -sinx$<br/>\n",
    "$(a^x)' = a^x * lna \\quad((e^x)' = e^x)$<br/>\n",
    "$(log_ax)' = \\frac{1}{xlna} \\quad((lnx)' = \\frac{1}{x})$"
   ]
  },
  {
   "cell_type": "code",
   "execution_count": null,
   "metadata": {},
   "outputs": [],
   "source": []
  }
 ],
 "metadata": {
  "kernelspec": {
   "display_name": "Python 3",
   "language": "python",
   "name": "python3"
  },
  "language_info": {
   "codemirror_mode": {
    "name": "ipython",
    "version": 3
   },
   "file_extension": ".py",
   "mimetype": "text/x-python",
   "name": "python",
   "nbconvert_exporter": "python",
   "pygments_lexer": "ipython3",
   "version": "3.7.6"
  }
 },
 "nbformat": 4,
 "nbformat_minor": 4
}
