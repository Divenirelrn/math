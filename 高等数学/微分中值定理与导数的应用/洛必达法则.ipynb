{
 "cells": [
  {
   "cell_type": "markdown",
   "metadata": {},
   "source": [
    "导数的应用（求极限）：<br/>\n",
    "$定理1：$<br/>\n",
    "$1.x \\rightarrow a时， f(x) \\rightarrow 0, F(x) \\rightarrow 0 $<br/>\n",
    "$2.在a的去心邻域内f'(x)、F'(x)有定义，且F'(x) \\ne 0$<br/>\n",
    "$3.\\lim_{x \\to a}\\frac{f'(x)}{F'(x)}存在（或无穷大）,则：$\n",
    "$$\\lim_{x \\to a}\\frac{f(x)}{F(x)} = \\lim_{x \\to a}\\frac{f'(x)}{F'(x)}$$"
   ]
  },
  {
   "cell_type": "markdown",
   "metadata": {},
   "source": [
    "$\\frac{0}{0}, \\frac{\\infty}{\\infty}$"
   ]
  },
  {
   "cell_type": "markdown",
   "metadata": {},
   "source": [
    "定理2：<br/>\n",
    "$x \\rightarrow \\infty时, f(x)\\rightarrow 0, F(x) \\rightarrow 0$"
   ]
  },
  {
   "cell_type": "code",
   "execution_count": null,
   "metadata": {},
   "outputs": [],
   "source": []
  }
 ],
 "metadata": {
  "kernelspec": {
   "display_name": "Python 3",
   "language": "python",
   "name": "python3"
  },
  "language_info": {
   "codemirror_mode": {
    "name": "ipython",
    "version": 3
   },
   "file_extension": ".py",
   "mimetype": "text/x-python",
   "name": "python",
   "nbconvert_exporter": "python",
   "pygments_lexer": "ipython3",
   "version": "3.7.6"
  }
 },
 "nbformat": 4,
 "nbformat_minor": 4
}
