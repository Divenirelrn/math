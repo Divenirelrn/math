{
 "cells": [
  {
   "cell_type": "markdown",
   "metadata": {},
   "source": [
    "若f(x)与F(x)满足：<br/>\n",
    "1.[a,b]上连续<br/>\n",
    "2.(a,b)上可导<br/>\n",
    "$3.\\forall x \\in (a,b), F'(x) \\ne 0$<br/>\n",
    "$则至少有一点\\zeta$\n",
    "$$\\frac{f(b)-f(a)}{F(b)-F(a)} = \\frac{f'(\\zeta)}{F'(\\zeta)}$$"
   ]
  },
  {
   "cell_type": "code",
   "execution_count": null,
   "metadata": {},
   "outputs": [],
   "source": []
  }
 ],
 "metadata": {
  "kernelspec": {
   "display_name": "Python 3",
   "language": "python",
   "name": "python3"
  },
  "language_info": {
   "codemirror_mode": {
    "name": "ipython",
    "version": 3
   },
   "file_extension": ".py",
   "mimetype": "text/x-python",
   "name": "python",
   "nbconvert_exporter": "python",
   "pygments_lexer": "ipython3",
   "version": "3.7.6"
  }
 },
 "nbformat": 4,
 "nbformat_minor": 4
}
