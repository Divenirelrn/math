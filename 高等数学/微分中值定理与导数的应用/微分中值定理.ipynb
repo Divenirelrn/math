{
 "cells": [
  {
   "cell_type": "markdown",
   "metadata": {},
   "source": [
    "费马引理：<br/>\n",
    "$f(x)在x_0的邻域U(x)有定义，且在x_0处可导，\\forall x \\in U(x_0),如果f(x) \\le f(x_0), 则f'(x_0) = 0$"
   ]
  },
  {
   "cell_type": "markdown",
   "metadata": {},
   "source": [
    "驻点：导数为0的点"
   ]
  },
  {
   "cell_type": "markdown",
   "metadata": {},
   "source": [
    "罗尔定理：<br/>\n",
    "$如果f(x)满足：$<br/>\n",
    "1.在[a,b]连续<br/>\n",
    "2.在(a,b)可导<br/>\n",
    "3.f(a) = f(b)<br>\n",
    "则：至少$\\exists \\zeta \\in (a,b), f'(\\zeta) = 0$"
   ]
  },
  {
   "cell_type": "markdown",
   "metadata": {},
   "source": [
    "拉格朗日中值定理：<br/>\n",
    "1.在[a,b]上连续<br/>\n",
    "2.在(a,b)可导<br/>\n",
    "则：$(a,b)内至少有一点\\zeta ,使得f(b) - f(a) = f'(\\zeta)(b - a)$"
   ]
  },
  {
   "cell_type": "markdown",
   "metadata": {},
   "source": [
    "定理：<br/>\n",
    "$如果f(x)在区间I上连续，在I内可导，且导数恒为0，则f(x)=C$"
   ]
  },
  {
   "cell_type": "markdown",
   "metadata": {},
   "source": []
  }
 ],
 "metadata": {
  "kernelspec": {
   "display_name": "Python 3",
   "language": "python",
   "name": "python3"
  },
  "language_info": {
   "codemirror_mode": {
    "name": "ipython",
    "version": 3
   },
   "file_extension": ".py",
   "mimetype": "text/x-python",
   "name": "python",
   "nbconvert_exporter": "python",
   "pygments_lexer": "ipython3",
   "version": "3.7.6"
  }
 },
 "nbformat": 4,
 "nbformat_minor": 4
}
