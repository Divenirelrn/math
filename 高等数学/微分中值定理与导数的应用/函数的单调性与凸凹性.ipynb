{
 "cells": [
  {
   "cell_type": "markdown",
   "metadata": {},
   "source": [
    "单调性：<br/>\n",
    "$取x_1,x_2(x_1<x_2),如果f'(\\zeta) = \\frac{f(x_2)-f(x_1)}{x_2-x_1}>0，则f(x_2)>f(x_1),函数是增的$"
   ]
  },
  {
   "cell_type": "markdown",
   "metadata": {},
   "source": [
    "定理：y=f(x)在[a.b]连续，在(a,b)可导<br/>\n",
    "$1.f'(x) \\ge 0,等号在有限个点成立，则单调增$<br/>\n",
    "$2.f'(x) \\le 0,等号在有限个点成立，则单调减$"
   ]
  },
  {
   "cell_type": "markdown",
   "metadata": {},
   "source": [
    "单调性与一阶导数有关，凹凸性与二阶导数有关"
   ]
  },
  {
   "cell_type": "markdown",
   "metadata": {},
   "source": [
    "凸凹性：<br/>\n",
    "$x_1,x_2$<br/>\n",
    "$凹：f(\\frac{x_1 + x_2}{2})<\\frac{f(x_1)+f(x_2)}{2}$<br/>\n",
    "$凸：f(\\frac{x_1 + x_2}{2})>\\frac{f(x_1)+f(x_2)}{2}$"
   ]
  },
  {
   "cell_type": "markdown",
   "metadata": {},
   "source": [
    "$f'(x)增，f''(x)>0,凹$<br/>\n",
    "$f'(x)减，f''(x)<0,凸$"
   ]
  },
  {
   "cell_type": "markdown",
   "metadata": {},
   "source": [
    "拐点：凹凸性变换"
   ]
  },
  {
   "cell_type": "code",
   "execution_count": null,
   "metadata": {},
   "outputs": [],
   "source": []
  }
 ],
 "metadata": {
  "kernelspec": {
   "display_name": "Python 3",
   "language": "python",
   "name": "python3"
  },
  "language_info": {
   "codemirror_mode": {
    "name": "ipython",
    "version": 3
   },
   "file_extension": ".py",
   "mimetype": "text/x-python",
   "name": "python",
   "nbconvert_exporter": "python",
   "pygments_lexer": "ipython3",
   "version": "3.7.6"
  }
 },
 "nbformat": 4,
 "nbformat_minor": 4
}
