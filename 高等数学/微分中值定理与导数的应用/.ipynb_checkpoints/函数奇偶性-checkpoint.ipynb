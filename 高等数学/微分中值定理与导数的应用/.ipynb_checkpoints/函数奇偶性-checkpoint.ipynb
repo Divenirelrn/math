{
 "cells": [
  {
   "cell_type": "markdown",
   "metadata": {},
   "source": [
    "偶函数关于y轴对称<br/>\n",
    "奇函数关于原点对称"
   ]
  },
  {
   "cell_type": "markdown",
   "metadata": {},
   "source": [
    "判定方法：<br/>\n",
    "奇函数：f(-x) = -f(x)<br/>\n",
    "偶函数：f(x) = f(-x)"
   ]
  },
  {
   "cell_type": "code",
   "execution_count": null,
   "metadata": {},
   "outputs": [],
   "source": []
  }
 ],
 "metadata": {
  "kernelspec": {
   "display_name": "Python 3",
   "language": "python",
   "name": "python3"
  },
  "language_info": {
   "codemirror_mode": {
    "name": "ipython",
    "version": 3
   },
   "file_extension": ".py",
   "mimetype": "text/x-python",
   "name": "python",
   "nbconvert_exporter": "python",
   "pygments_lexer": "ipython3",
   "version": "3.7.6"
  }
 },
 "nbformat": 4,
 "nbformat_minor": 4
}
