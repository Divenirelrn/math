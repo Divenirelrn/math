{
 "cells": [
  {
   "cell_type": "markdown",
   "metadata": {},
   "source": [
    "极大值与极小值：<br/>\n",
    "$邻域U(x_0),\\forall x \\in U(\\hat{x_0}), f(x) < f(x_0), f(x_0)为极大值，x_0为极大值点$<br/>\n",
    "$邻域U(x_0),\\forall x \\in U(\\hat{x_0}), f(x) > f(x_0), f(x_0)为极小值，x_0为极小值点$"
   ]
  },
  {
   "cell_type": "markdown",
   "metadata": {},
   "source": [
    "$定理：f(x)在x_0可导，且在x_0处取极值，则f'(x_0)=0$"
   ]
  },
  {
   "cell_type": "markdown",
   "metadata": {},
   "source": [
    "$可导函数的极值点一定是驻点$<br/>\n",
    "$驻点不一定是极值点$"
   ]
  },
  {
   "cell_type": "markdown",
   "metadata": {},
   "source": [
    "$定理：f(x)在（x_0-\\delta, x_0+\\delta）内连续，在邻域内（x_0除外）可导，且在f'(x_0)=0或不存在，$<br/>\n",
    "$1.左增右减，为极大值$<br/>\n",
    "$2.左减右增，为极小值$"
   ]
  },
  {
   "cell_type": "markdown",
   "metadata": {},
   "source": [
    "$定理：x_0处有二阶导，f(x_0)=0,f''(x_0)\\ne 0$<br/>\n",
    "$1.f''(x_0)<0,极大值$<br/>\n",
    "$2.f''(x_0)>0, 极小值$"
   ]
  },
  {
   "cell_type": "markdown",
   "metadata": {},
   "source": [
    "最值：<br/>\n",
    "$在区间I内有定义，\\forall x \\in I, f(x_0) \\ge f(x), 则f(x_0)为最大值，x_0为最大值点$<br/>\n",
    "$在区间I内有定义，\\forall x \\in I, f(x_0) \\le f(x), 则f(x_0)为最小值，x_0为最小值点$"
   ]
  },
  {
   "cell_type": "markdown",
   "metadata": {},
   "source": []
  }
 ],
 "metadata": {
  "kernelspec": {
   "display_name": "Python 3",
   "language": "python",
   "name": "python3"
  },
  "language_info": {
   "codemirror_mode": {
    "name": "ipython",
    "version": 3
   },
   "file_extension": ".py",
   "mimetype": "text/x-python",
   "name": "python",
   "nbconvert_exporter": "python",
   "pygments_lexer": "ipython3",
   "version": "3.7.6"
  }
 },
 "nbformat": 4,
 "nbformat_minor": 4
}
