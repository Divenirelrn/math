{
 "cells": [
  {
   "cell_type": "markdown",
   "metadata": {},
   "source": [
    "泰勒公式（泰勒展开式）\n",
    "$f(x) \\approx f(x_0) + f'(x_0)(x - x_0)$"
   ]
  },
  {
   "cell_type": "markdown",
   "metadata": {},
   "source": [
    "用一次函数近似f(x)"
   ]
  },
  {
   "cell_type": "markdown",
   "metadata": {},
   "source": [
    "$P_n(x) = a_0 + a_1(x -x_0) + a_2(x-x_0)^2+\\cdots + a_n(x-x_0)^n$"
   ]
  },
  {
   "cell_type": "markdown",
   "metadata": {},
   "source": [
    "用n次函数近似f(x)"
   ]
  },
  {
   "cell_type": "markdown",
   "metadata": {},
   "source": [
    "$a_0 = f(x_0), a_1 = f'(x_0), 2!a_2=f''(x_0),...$<br/>\n",
    "$a_0=f(x_0),a_1=\\frac{f'(x_0)}{1!},...,a_n = \\frac{f^n(x_0)}{n!}$"
   ]
  },
  {
   "cell_type": "markdown",
   "metadata": {},
   "source": [
    "$f(x)在x_0处n阶导，\\exists x_0的一个邻域，$\n",
    "$$f(x)=f(x_0)+\\frac{f'(x_0)}{1!}(x-x_0)+\\frac{f''(x_0)}{2!}(x-x_0)^2+\\cdots +\\frac{f^{(n)}(x_0)}{n!}(x-x_0)^n+R_n(x)$$"
   ]
  },
  {
   "cell_type": "markdown",
   "metadata": {},
   "source": [
    "$R_n(x)=o((x-x_0)^n)$"
   ]
  },
  {
   "cell_type": "markdown",
   "metadata": {},
   "source": [
    "$R_n(x)=\\frac{f^{(n+1)}(\\zeta)}{(n+1)!}(x-x_0)^{n+1}$"
   ]
  },
  {
   "cell_type": "markdown",
   "metadata": {},
   "source": [
    "一般应用时是在$x_0=0$处展开"
   ]
  },
  {
   "cell_type": "code",
   "execution_count": null,
   "metadata": {},
   "outputs": [],
   "source": []
  }
 ],
 "metadata": {
  "kernelspec": {
   "display_name": "Python 3",
   "language": "python",
   "name": "python3"
  },
  "language_info": {
   "codemirror_mode": {
    "name": "ipython",
    "version": 3
   },
   "file_extension": ".py",
   "mimetype": "text/x-python",
   "name": "python",
   "nbconvert_exporter": "python",
   "pygments_lexer": "ipython3",
   "version": "3.7.6"
  }
 },
 "nbformat": 4,
 "nbformat_minor": 4
}
